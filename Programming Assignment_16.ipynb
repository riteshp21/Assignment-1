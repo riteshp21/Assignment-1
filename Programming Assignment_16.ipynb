{
 "cells": [
  {
   "cell_type": "code",
   "execution_count": 1,
   "id": "4208217d",
   "metadata": {},
   "outputs": [
    {
     "data": {
      "text/plain": [
       "'Question1. Write a function that stutters a word as if someone is struggling to read it. The\\nfirst two letters are repeated twice with an ellipsis ... and space after each, and then the\\nword is pronounced with a question mark ?.\\nEx:stutter(\"incredible\") in... in... incredible?\"\\n'"
      ]
     },
     "execution_count": 1,
     "metadata": {},
     "output_type": "execute_result"
    }
   ],
   "source": [
    "\"\"\"Question1. Write a function that stutters a word as if someone is struggling to read it. The\n",
    "first two letters are repeated twice with an ellipsis ... and space after each, and then the\n",
    "word is pronounced with a question mark ?.\n",
    "Ex:stutter(\"incredible\") in... in... incredible?\"\n",
    "\"\"\""
   ]
  },
  {
   "cell_type": "code",
   "execution_count": 2,
   "id": "2d1f5bf8",
   "metadata": {},
   "outputs": [
    {
     "name": "stdout",
     "output_type": "stream",
     "text": [
      "wo... wo... word?\n"
     ]
    }
   ],
   "source": [
    "def shutters(word):\n",
    "    print(f\"{word[0:2]}... {word[0:2]}... {word}?\")\n",
    "    \n",
    "shutters(\"word\")"
   ]
  },
  {
   "cell_type": "code",
   "execution_count": 3,
   "id": "4f88bd29",
   "metadata": {},
   "outputs": [
    {
     "data": {
      "text/plain": [
       "'Question 2.Create a function that takes an angle in radians and returns the corresponding\\nangle in degrees rounded to one decimal place.\\nExamples\\nradians_to_degrees(1) ➞ 57.3\\n'"
      ]
     },
     "execution_count": 3,
     "metadata": {},
     "output_type": "execute_result"
    }
   ],
   "source": [
    "\"\"\"Question 2.Create a function that takes an angle in radians and returns the corresponding\n",
    "angle in degrees rounded to one decimal place.\n",
    "Examples\n",
    "radians_to_degrees(1) ➞ 57.3\n",
    "\"\"\""
   ]
  },
  {
   "cell_type": "code",
   "execution_count": 4,
   "id": "9fcd5ec0",
   "metadata": {},
   "outputs": [
    {
     "data": {
      "text/plain": [
       "57.3"
      ]
     },
     "execution_count": 4,
     "metadata": {},
     "output_type": "execute_result"
    }
   ],
   "source": [
    "def radians_to_degrees(Radians):\n",
    "    Degrees = (Radians*180)/3.14  \n",
    "    return round(Degrees,1)\n",
    "\n",
    "\n",
    "radians_to_degrees(1)"
   ]
  },
  {
   "cell_type": "code",
   "execution_count": 5,
   "id": "5a702c01",
   "metadata": {},
   "outputs": [
    {
     "data": {
      "text/plain": [
       "'Question 3. In this challenge, establish if a given integer num is a Curzon number. If 1 plus\\n2 elevated to num is exactly divisible by 1 plus 2 multiplied by num, then num is a Curzon\\nnumber.\\nGiven a non-negative integer num, implement a function that returns True if num is a Curzon\\nnumber, or False otherwise.\\nExamples\\nis_curzon(5) ➞ True\\n# 2 ** 5 + 1 = 33\\n# 2 * 5 + 1 = 11\\n# 33 is a multiple of 11\\n'"
      ]
     },
     "execution_count": 5,
     "metadata": {},
     "output_type": "execute_result"
    }
   ],
   "source": [
    "\"\"\"Question 3. In this challenge, establish if a given integer num is a Curzon number. If 1 plus\n",
    "2 elevated to num is exactly divisible by 1 plus 2 multiplied by num, then num is a Curzon\n",
    "number.\n",
    "Given a non-negative integer num, implement a function that returns True if num is a Curzon\n",
    "number, or False otherwise.\n",
    "Examples\n",
    "is_curzon(5) ➞ True\n",
    "# 2 ** 5 + 1 = 33\n",
    "# 2 * 5 + 1 = 11\n",
    "# 33 is a multiple of 11\n",
    "\"\"\""
   ]
  },
  {
   "cell_type": "code",
   "execution_count": 6,
   "id": "52f5cbd1",
   "metadata": {},
   "outputs": [
    {
     "data": {
      "text/plain": [
       "True"
      ]
     },
     "execution_count": 6,
     "metadata": {},
     "output_type": "execute_result"
    }
   ],
   "source": [
    "def is_curzon(num):\n",
    "    return True if (2**num +1) % (2*num+1)==0 else False\n",
    "        \n",
    "is_curzon(14)  "
   ]
  },
  {
   "cell_type": "code",
   "execution_count": null,
   "id": "b1b5ce31",
   "metadata": {},
   "outputs": [],
   "source": [
    "\"\"\"Question 4.Given the side length x find the area of a hexagon.\n",
    "\"\"\""
   ]
  },
  {
   "cell_type": "code",
   "execution_count": 39,
   "id": "9981877f",
   "metadata": {},
   "outputs": [
    {
     "data": {
      "text/plain": [
       "10.4"
      ]
     },
     "execution_count": 39,
     "metadata": {},
     "output_type": "execute_result"
    }
   ],
   "source": [
    "import math\n",
    "\n",
    "def area_of_hexagon(s):\n",
    "    Area = (3*math.sqrt(3) * s**2)/2\n",
    "    return round(Area,1)\n",
    "\n",
    "area_of_hexagon(2)"
   ]
  },
  {
   "cell_type": "code",
   "execution_count": null,
   "id": "6ac6060f",
   "metadata": {},
   "outputs": [],
   "source": [
    "\"\"\"Question 5. Create a function that returns a base-2 (binary) representation of a base-10\n",
    "(decimal) string number. To convert is simple: ((2) means base-2 and (10) means base-10)\n",
    "010101001(2) = 1 + 8 + 32 + 128.\n",
    "Going from right to left, the value of the most right bit is 1, now from that every bit to the left\n",
    "will be x2 the value, value of an 8 bit binary numbers are (256, 128, 64, 32, 16, 8, 4, 2, 1).\n",
    "Examples\n",
    "binary(1) ➞ \"1\";\n",
    "# 1*1 = 1\n",
    "\"\"\""
   ]
  },
  {
   "cell_type": "code",
   "execution_count": 36,
   "id": "46023d9d",
   "metadata": {},
   "outputs": [
    {
     "name": "stdout",
     "output_type": "stream",
     "text": [
      "100000\n"
     ]
    }
   ],
   "source": [
    "def bin_func(n):\n",
    "    num = n\n",
    "    if num in (1,2,3):\n",
    "        if num == 1:\n",
    "            return (\"Binary is {}\".format(num))\n",
    "        elif num == 2 :\n",
    "            return (\"Binary is : 10\")\n",
    "        elif num == 3:\n",
    "            return (\"Binary is : 11\")\n",
    "\n",
    "\n",
    "    else:\n",
    "        list1 = []\n",
    "        if num not in (1,2,3):\n",
    "            q = num // 2\n",
    "            r = num % 2\n",
    "            list1.append(r)\n",
    "            while q != 1:\n",
    "                q1 = q\n",
    "                r1 = q1 % 2\n",
    "                list1.append(r1)\n",
    "                q2 = q1 // 2\n",
    "                q = q2\n",
    "                if q == 1:\n",
    "                    list1.append(q)\n",
    "                    break\n",
    "            list1.reverse()\n",
    "            binary = \"\".join([str(i) for i in list1])\n",
    "            return binary\n",
    "\n",
    "\n",
    "print(bin_func(32))\n",
    "\n"
   ]
  },
  {
   "cell_type": "code",
   "execution_count": null,
   "id": "257c665c",
   "metadata": {},
   "outputs": [],
   "source": []
  },
  {
   "cell_type": "code",
   "execution_count": null,
   "id": "4a576827",
   "metadata": {},
   "outputs": [],
   "source": []
  },
  {
   "cell_type": "code",
   "execution_count": null,
   "id": "dcf8bd2a",
   "metadata": {},
   "outputs": [],
   "source": []
  },
  {
   "cell_type": "code",
   "execution_count": null,
   "id": "c49d0f9b",
   "metadata": {},
   "outputs": [],
   "source": []
  }
 ],
 "metadata": {
  "kernelspec": {
   "display_name": "Python 3 (ipykernel)",
   "language": "python",
   "name": "python3"
  },
  "language_info": {
   "codemirror_mode": {
    "name": "ipython",
    "version": 3
   },
   "file_extension": ".py",
   "mimetype": "text/x-python",
   "name": "python",
   "nbconvert_exporter": "python",
   "pygments_lexer": "ipython3",
   "version": "3.9.12"
  }
 },
 "nbformat": 4,
 "nbformat_minor": 5
}
