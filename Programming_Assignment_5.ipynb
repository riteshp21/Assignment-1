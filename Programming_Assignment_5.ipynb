{
 "cells": [
  {
   "cell_type": "code",
   "execution_count": 1,
   "id": "a468b966",
   "metadata": {},
   "outputs": [
    {
     "name": "stdout",
     "output_type": "stream",
     "text": [
      "The L.C.M. is 216\n"
     ]
    }
   ],
   "source": [
    "#1. Write a Python Program to Find LCM?\n",
    "def compute_lcm(x, y):\n",
    "\n",
    "   if x > y:\n",
    "       greater = x\n",
    "   else:\n",
    "       greater = y\n",
    "\n",
    "   while(True):\n",
    "       if((greater % x == 0) and (greater % y == 0)):\n",
    "           lcm = greater\n",
    "           break\n",
    "       greater += 1\n",
    "\n",
    "   return lcm\n",
    "\n",
    "num1 = 54\n",
    "num2 = 24\n",
    "\n",
    "print(\"The L.C.M. is\", compute_lcm(num1, num2))"
   ]
  },
  {
   "cell_type": "code",
   "execution_count": 2,
   "id": "b23a4c44",
   "metadata": {},
   "outputs": [
    {
     "name": "stdout",
     "output_type": "stream",
     "text": [
      "The gcd of 60 and 48 is : 12\n"
     ]
    }
   ],
   "source": [
    "#2. Write a Python Program to Find HCF?\n",
    "def computeGCD(x, y):\n",
    "    if x > y:\n",
    "        small = y\n",
    "    else:\n",
    "        small = x\n",
    "    for i in range(1, small + 1):\n",
    "        if((x % i == 0) and (y % i == 0)):\n",
    "            gcd = i\n",
    "    return gcd\n",
    "\n",
    "a = 60\n",
    "b = 48\n",
    "\n",
    "\n",
    "print (\"The gcd of 60 and 48 is : \", end=\"\")\n",
    "print (computeGCD(60,48))\n"
   ]
  },
  {
   "cell_type": "code",
   "execution_count": 27,
   "id": "5fc8b310",
   "metadata": {},
   "outputs": [
    {
     "data": {
      "text/plain": [
       "'68'"
      ]
     },
     "execution_count": 27,
     "metadata": {},
     "output_type": "execute_result"
    }
   ],
   "source": [
    "#3. Write a Python Program to Convert Decimal to Binary, Octal and Hexadecimal?\n",
    "def decimalToBinary(n):\n",
    "    \n",
    "    return bin(n).replace(\"0b\", \"\")\n",
    "\n",
    "def octaltohex(n):\n",
    "    \n",
    "    return hex(n).replace(\"0x\",\"\")\n",
    "\n",
    "\n",
    "\n",
    "\n",
    "octaltohex(104)"
   ]
  },
  {
   "cell_type": "code",
   "execution_count": 28,
   "id": "ff559595",
   "metadata": {},
   "outputs": [
    {
     "data": {
      "text/plain": [
       "'1100110'"
      ]
     },
     "execution_count": 28,
     "metadata": {},
     "output_type": "execute_result"
    }
   ],
   "source": [
    "decimalToBinary(102)"
   ]
  },
  {
   "cell_type": "code",
   "execution_count": 30,
   "id": "f90eaded",
   "metadata": {},
   "outputs": [
    {
     "name": "stdout",
     "output_type": "stream",
     "text": [
      "The ASCII value of 'p' is 112\n"
     ]
    }
   ],
   "source": [
    "#4. Write a Python Program To Find ASCII value of a character?\n",
    "\n",
    "\n",
    "c = 'p'\n",
    "print(\"The ASCII value of '\" + c + \"' is\", ord(c))"
   ]
  },
  {
   "cell_type": "code",
   "execution_count": 35,
   "id": "628a8815",
   "metadata": {},
   "outputs": [
    {
     "name": "stdout",
     "output_type": "stream",
     "text": [
      "9\n",
      "-1\n",
      "20\n",
      "0.8\n"
     ]
    }
   ],
   "source": [
    "#5. Write a Python Program to Make a Simple Calculator with 4 basic mathematical operations?\n",
    "\n",
    "class Calculator:\n",
    "    \n",
    "    def __init__(self,x,y):\n",
    "        self.x = x\n",
    "        self.y = y\n",
    "        \n",
    "    def add_(self):\n",
    "        return self.x + self.y\n",
    "    \n",
    "    def sub_(self):\n",
    "        return self.x - self.y\n",
    "    \n",
    "    def mul_(self):\n",
    "        return self.x * self.y\n",
    "    \n",
    "    def div_(self):\n",
    "        return self.x / self.y\n",
    "    \n",
    "    \n",
    "    \n",
    "add = Calculator(4,5)\n",
    "print(add.add_())\n",
    "print(add.sub_())\n",
    "print(add.mul_())\n",
    "print(add.div_())  "
   ]
  },
  {
   "cell_type": "code",
   "execution_count": null,
   "id": "b8ac7873",
   "metadata": {},
   "outputs": [],
   "source": []
  }
 ],
 "metadata": {
  "kernelspec": {
   "display_name": "Python 3 (ipykernel)",
   "language": "python",
   "name": "python3"
  },
  "language_info": {
   "codemirror_mode": {
    "name": "ipython",
    "version": 3
   },
   "file_extension": ".py",
   "mimetype": "text/x-python",
   "name": "python",
   "nbconvert_exporter": "python",
   "pygments_lexer": "ipython3",
   "version": "3.9.12"
  }
 },
 "nbformat": 4,
 "nbformat_minor": 5
}
