{
 "cells": [
  {
   "cell_type": "code",
   "execution_count": 129,
   "id": "a69b842f",
   "metadata": {},
   "outputs": [
    {
     "name": "stdout",
     "output_type": "stream",
     "text": [
      "Enter a Number100\n"
     ]
    }
   ],
   "source": [
    "\"\"\"\n",
    "Question 1:\n",
    "Please write a program using generator to print the numbers which can be divisible by 5 and\n",
    "7 between 0 and n in comma separated form while n is input by console.\n",
    "Example:\n",
    "If the following n is given as input to the program:\n",
    "100\n",
    "Then, the output of the program should be:\n",
    "0,35,70\n",
    "\"\"\"\n",
    "num=int(input(\"Enter a Number\"))\n",
    "num= [i for i in range(num)]"
   ]
  },
  {
   "cell_type": "code",
   "execution_count": 130,
   "id": "356ba7a2",
   "metadata": {},
   "outputs": [],
   "source": [
    "l=map(lambda a : a if (a%5==0 and a%7==0 ) else None,num)"
   ]
  },
  {
   "cell_type": "code",
   "execution_count": 131,
   "id": "1939bfd3",
   "metadata": {},
   "outputs": [
    {
     "name": "stdout",
     "output_type": "stream",
     "text": [
      "0\n",
      "35\n",
      "70\n"
     ]
    }
   ],
   "source": [
    "for i in list(l):\n",
    "    if type(i)==int:\n",
    "        print(i)"
   ]
  },
  {
   "cell_type": "code",
   "execution_count": null,
   "id": "ad1c9161",
   "metadata": {},
   "outputs": [],
   "source": [
    "\"\"\"\n",
    "Question 2:\n",
    "Please write a program using generator to print the even numbers between 0 and n in comma\n",
    "separated form while n is input by console.\n",
    "Example:\n",
    "If the following n is given as input to the program:\n",
    "10\n",
    "Then, the output of the program should be:\n",
    "0,2,4,6,8,10\n",
    "\"\"\""
   ]
  },
  {
   "cell_type": "code",
   "execution_count": 46,
   "id": "3e458cef",
   "metadata": {},
   "outputs": [],
   "source": [
    "g=list(map(lambda a : a if a%2==0 else None, range(0,11,1)))"
   ]
  },
  {
   "cell_type": "code",
   "execution_count": 47,
   "id": "9e8f05db",
   "metadata": {},
   "outputs": [
    {
     "name": "stdout",
     "output_type": "stream",
     "text": [
      "0,2,4,6,8,10,"
     ]
    }
   ],
   "source": [
    "l=[]\n",
    "for i in g:\n",
    "    if type(i)==int:\n",
    "        #l.append(str(i))\n",
    "        print(i,end=\",\")"
   ]
  },
  {
   "cell_type": "code",
   "execution_count": 48,
   "id": "4b5622d7",
   "metadata": {},
   "outputs": [],
   "source": []
  },
  {
   "cell_type": "code",
   "execution_count": null,
   "id": "7a806a0f",
   "metadata": {},
   "outputs": [],
   "source": []
  },
  {
   "cell_type": "code",
   "execution_count": 22,
   "id": "0a96c21a",
   "metadata": {},
   "outputs": [
    {
     "data": {
      "text/plain": [
       "'\\nQuestion 3:\\nThe Fibonacci Sequence is computed based on the following formula:\\nf(n)=0 if n=0\\nf(n)=1 if n=1\\nf(n)=f(n-1)+f(n-2) if n&gt;1\\nPlease write a program using list comprehension to print the Fibonacci Sequence in comma\\nseparated form with a given n input by console.\\n'"
      ]
     },
     "execution_count": 22,
     "metadata": {},
     "output_type": "execute_result"
    }
   ],
   "source": [
    "\"\"\"\n",
    "Question 3:\n",
    "The Fibonacci Sequence is computed based on the following formula:\n",
    "f(n)=0 if n=0\n",
    "f(n)=1 if n=1\n",
    "f(n)=f(n-1)+f(n-2) if n>1\n",
    "Please write a program using list comprehension to print the Fibonacci Sequence in comma\n",
    "separated form with a given n input by console.\n",
    "\"\"\"\n",
    "\n",
    "\n"
   ]
  },
  {
   "cell_type": "code",
   "execution_count": 54,
   "id": "e006a933",
   "metadata": {},
   "outputs": [],
   "source": [
    "a=0\n",
    "b=1\n",
    "count=0"
   ]
  },
  {
   "cell_type": "code",
   "execution_count": 96,
   "id": "e47d7e37",
   "metadata": {},
   "outputs": [
    {
     "name": "stdout",
     "output_type": "stream",
     "text": [
      "1\n",
      "2\n",
      "4\n",
      "8\n",
      "16\n",
      "32\n",
      "64\n",
      "128\n",
      "256\n",
      "512\n"
     ]
    }
   ],
   "source": [
    "a=0\n",
    "b=1\n",
    "count=0\n",
    "while count<10:\n",
    "    \n",
    "    #print(a)\n",
    "    \n",
    "    a=b\n",
    "    b=a+b\n",
    "    print(a)\n",
    "    count=count+1\n",
    "    "
   ]
  },
  {
   "cell_type": "code",
   "execution_count": null,
   "id": "3f88fd13",
   "metadata": {},
   "outputs": [],
   "source": []
  },
  {
   "cell_type": "code",
   "execution_count": null,
   "id": "53a0e423",
   "metadata": {},
   "outputs": [],
   "source": [
    "\"\"\"\n",
    "Question 4:\n",
    "Assuming that we have some email addresses in the \"username@companyname.com\" format,\n",
    "please write program to print the user name of a given email address. Both user names and\n",
    "company names are composed of letters only.\n",
    "Example:\n",
    "If the following email address is given as input to the program:\n",
    "john@google.com\n",
    "Then, the output of the program should be:\n",
    "john\n",
    "\"\"\""
   ]
  },
  {
   "cell_type": "code",
   "execution_count": 8,
   "id": "0a6d78fe",
   "metadata": {},
   "outputs": [],
   "source": [
    "emailid = \"Jhon@companyname.com\""
   ]
  },
  {
   "cell_type": "code",
   "execution_count": 11,
   "id": "81be3a10",
   "metadata": {},
   "outputs": [],
   "source": [
    "emailid_list=emailid.split(\"@\")"
   ]
  },
  {
   "cell_type": "code",
   "execution_count": 12,
   "id": "8399c52a",
   "metadata": {},
   "outputs": [
    {
     "data": {
      "text/plain": [
       "['Jhon', 'companyname.com']"
      ]
     },
     "execution_count": 12,
     "metadata": {},
     "output_type": "execute_result"
    }
   ],
   "source": [
    "emailid_list"
   ]
  },
  {
   "cell_type": "code",
   "execution_count": 15,
   "id": "82ec0203",
   "metadata": {},
   "outputs": [],
   "source": [
    "user_name,company_name=emailid_list[0],emailid_list[1]"
   ]
  },
  {
   "cell_type": "code",
   "execution_count": 18,
   "id": "a075bc8b",
   "metadata": {},
   "outputs": [
    {
     "data": {
      "text/plain": [
       "'Jhon'"
      ]
     },
     "execution_count": 18,
     "metadata": {},
     "output_type": "execute_result"
    }
   ],
   "source": [
    "user_name"
   ]
  },
  {
   "cell_type": "code",
   "execution_count": null,
   "id": "891d46fe",
   "metadata": {},
   "outputs": [],
   "source": [
    "\"\"\"\n",
    "Question 5:\n",
    "Define a class named Shape and its subclass Square. The Square class has an init function\n",
    "which takes a length as argument. Both classes have a area function which can print the area\n",
    "of the shape where Shape's area is 0 by default.\n",
    "\"\"\""
   ]
  },
  {
   "cell_type": "code",
   "execution_count": 60,
   "id": "6a28d8eb",
   "metadata": {},
   "outputs": [],
   "source": [
    "class Shape:\n",
    "    \n",
    "    def area(self):\n",
    "        area=0\n",
    "        return area\n",
    "\n",
    "class Square(Shape):\n",
    "    \n",
    "    def __init__(self,length):\n",
    "        self.length=length\n",
    "        \n",
    "    def area(self):\n",
    "        a=(self.length*self.length)\n",
    "        return a\n",
    "        "
   ]
  },
  {
   "cell_type": "code",
   "execution_count": 80,
   "id": "c357e412",
   "metadata": {},
   "outputs": [],
   "source": [
    "g=Shape()"
   ]
  },
  {
   "cell_type": "code",
   "execution_count": 87,
   "id": "26f76643",
   "metadata": {},
   "outputs": [
    {
     "data": {
      "text/plain": [
       "0"
      ]
     },
     "execution_count": 87,
     "metadata": {},
     "output_type": "execute_result"
    }
   ],
   "source": [
    "g.area()"
   ]
  },
  {
   "cell_type": "code",
   "execution_count": 86,
   "id": "c115a739",
   "metadata": {},
   "outputs": [
    {
     "data": {
      "text/plain": [
       "25"
      ]
     },
     "execution_count": 86,
     "metadata": {},
     "output_type": "execute_result"
    }
   ],
   "source": [
    "Square(5).area()"
   ]
  },
  {
   "cell_type": "code",
   "execution_count": null,
   "id": "d12c6977",
   "metadata": {},
   "outputs": [],
   "source": []
  },
  {
   "cell_type": "code",
   "execution_count": null,
   "id": "557f1353",
   "metadata": {},
   "outputs": [],
   "source": []
  }
 ],
 "metadata": {
  "kernelspec": {
   "display_name": "Python 3 (ipykernel)",
   "language": "python",
   "name": "python3"
  },
  "language_info": {
   "codemirror_mode": {
    "name": "ipython",
    "version": 3
   },
   "file_extension": ".py",
   "mimetype": "text/x-python",
   "name": "python",
   "nbconvert_exporter": "python",
   "pygments_lexer": "ipython3",
   "version": "3.9.12"
  }
 },
 "nbformat": 4,
 "nbformat_minor": 5
}
