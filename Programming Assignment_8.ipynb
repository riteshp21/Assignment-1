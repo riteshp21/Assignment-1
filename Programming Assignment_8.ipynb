{
 "cells": [
  {
   "cell_type": "code",
   "execution_count": 10,
   "id": "21065375",
   "metadata": {},
   "outputs": [
    {
     "name": "stdout",
     "output_type": "stream",
     "text": [
      "[17, 15, 4]\n",
      "[10, 12, 9]\n",
      "[11, 13, 18]\n"
     ]
    }
   ],
   "source": [
    "#1. Write a Python Program to Add Two Matrices?\n",
    "                    \n",
    "A = [[12,7,3],\n",
    "\n",
    "    [4 ,5,6],\n",
    "\n",
    "    [7 ,8,9]]\n",
    "\n",
    "B = [[5,8,1],\n",
    "\n",
    "    [6,7,3],\n",
    "\n",
    "    [4,5,9]]\n",
    "\n",
    "result = [[0,0,0],\n",
    "\n",
    "         [0,0,0],\n",
    "\n",
    "         [0,0,0]]\n",
    "\n",
    "\n",
    "for x in range(len(A)):\n",
    "\n",
    "\n",
    "   for y in range(len(A[0])):\n",
    "\n",
    "       result[x][y] = A[x][y] + B[x][y]\n",
    "\n",
    "for q in result:\n",
    "\n",
    "   print(q)\n",
    "\n",
    "\n",
    "\n",
    "\n"
   ]
  },
  {
   "cell_type": "code",
   "execution_count": 13,
   "id": "49ac0e0b",
   "metadata": {},
   "outputs": [
    {
     "name": "stdout",
     "output_type": "stream",
     "text": [
      "[26, 29, 40]\n",
      "[48, 88, 89]\n",
      "[105, 144, 173]\n",
      "Result:  0\n"
     ]
    }
   ],
   "source": [
    "#2. Write a Python Program to Multiply Two Matrices?\n",
    "def Multiply(A,B):\n",
    "    result=[ [0,0,0],\n",
    "             [0,0,0],\n",
    "             [0,0,0] ]\n",
    "    for i in range(len(A)):\n",
    "        for j in range(len(B[0])):\n",
    "            for k in range(len(B)):\n",
    "                result[i][j] += A[i][k] * B[k][j]\n",
    "\n",
    "    for p in result:\n",
    "        print(p)\n",
    "\n",
    "    return 0\n",
    "\n",
    "A = [ [1, 2, 3],\n",
    "      [6, 7, 4], \n",
    "      [8, 10, 11] ]\n",
    "  \n",
    "B = [[1, 5, 3],\n",
    "     [2, 6, 5], \n",
    "     [7, 4, 9] ]\n",
    "\n",
    "print(\"Result: \" ,Multiply(A,B))\n"
   ]
  },
  {
   "cell_type": "code",
   "execution_count": 12,
   "id": "f32a9c7a",
   "metadata": {},
   "outputs": [
    {
     "name": "stdout",
     "output_type": "stream",
     "text": [
      "[12, 4, 3]\n",
      "[7, 5, 8]\n"
     ]
    }
   ],
   "source": [
    "#3. Write a Python Program to Transpose a Matrix?\n",
    "X = [[12,7],\n",
    "    [4 ,5],\n",
    "    [3 ,8]]\n",
    "\n",
    "result = [[0,0,0],\n",
    "         [0,0,0]]\n",
    "\n",
    "for p in range(len(X)):\n",
    "    for i in range(len(result)):\n",
    "        result[i][p] +=X[p][i]\n",
    "        \n",
    "for r in result:\n",
    "    print(r)\n",
    "    \n",
    "\n",
    "\n",
    "\n"
   ]
  },
  {
   "cell_type": "code",
   "execution_count": 4,
   "id": "fe6bcb14",
   "metadata": {},
   "outputs": [
    {
     "name": "stdout",
     "output_type": "stream",
     "text": [
      "[5, 4, 3, 2]\n"
     ]
    },
    {
     "data": {
      "text/plain": [
       "['A', 'B', 'C', 'D']"
      ]
     },
     "execution_count": 4,
     "metadata": {},
     "output_type": "execute_result"
    }
   ],
   "source": [
    "#4. Write a Python Program to Sort Words in Alphabetic Order?\n",
    "\n",
    "a=[\"A\",\"D\",\"C\",\"B\"]\n",
    "b=[2,5,4,3]\n",
    "a.sort()\n",
    "b.sort(reverse=True)\n",
    "\n",
    "print(b)\n",
    "a"
   ]
  },
  {
   "cell_type": "code",
   "execution_count": 5,
   "id": "45c260bc",
   "metadata": {},
   "outputs": [],
   "source": [
    "#5. Write a Python Program to Remove Punctuation From a String?"
   ]
  },
  {
   "cell_type": "code",
   "execution_count": 8,
   "id": "e3c6439f",
   "metadata": {},
   "outputs": [
    {
     "name": "stdout",
     "output_type": "stream",
     "text": [
      "Enter the string: “Hello!, he said, -- I have $45 & you?”\n",
      "Hello he said  I have 45  you\n"
     ]
    }
   ],
   "source": [
    "punc = \"‘’’!()–[]{}:;‘“\\,<>./?@#$%^&*_‘’’-”\"\n",
    "\n",
    "string1 = input (\"Enter the string: \")\n",
    "\n",
    "no_punc = \"\"\n",
    "\n",
    "for char in string1:\n",
    "\n",
    "              if char not in punc:\n",
    "\n",
    "                             no_punc = no_punc + char \n",
    "\n",
    "print (no_punc)"
   ]
  },
  {
   "cell_type": "code",
   "execution_count": null,
   "id": "597f4ef7",
   "metadata": {},
   "outputs": [],
   "source": []
  },
  {
   "cell_type": "code",
   "execution_count": null,
   "id": "acae8a94",
   "metadata": {},
   "outputs": [],
   "source": []
  }
 ],
 "metadata": {
  "kernelspec": {
   "display_name": "Python 3 (ipykernel)",
   "language": "python",
   "name": "python3"
  },
  "language_info": {
   "codemirror_mode": {
    "name": "ipython",
    "version": 3
   },
   "file_extension": ".py",
   "mimetype": "text/x-python",
   "name": "python",
   "nbconvert_exporter": "python",
   "pygments_lexer": "ipython3",
   "version": "3.9.12"
  }
 },
 "nbformat": 4,
 "nbformat_minor": 5
}
