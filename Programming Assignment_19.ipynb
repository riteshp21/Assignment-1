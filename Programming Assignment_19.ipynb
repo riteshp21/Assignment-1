{
 "cells": [
  {
   "cell_type": "markdown",
   "id": "cfeded17",
   "metadata": {},
   "source": [
    "# Question1 Create a function that takes a string and returns a string in which each character is repeated once."
   ]
  },
  {
   "cell_type": "code",
   "execution_count": 21,
   "id": "5baece3d",
   "metadata": {},
   "outputs": [
    {
     "data": {
      "text/plain": [
       "'SSttrriinngg__'"
      ]
     },
     "execution_count": 21,
     "metadata": {},
     "output_type": "execute_result"
    }
   ],
   "source": [
    "def double_char(a):\n",
    "    p = [i*2 for i in a]\n",
    "    return \"\".join(p)\n",
    "    \n",
    "double_char(\"String_\")"
   ]
  },
  {
   "cell_type": "markdown",
   "id": "709cbbac",
   "metadata": {},
   "source": [
    "# Question2 Create a function that reverses a boolean value and returns the string & \"boolean expected\"; if another variable type is given."
   ]
  },
  {
   "cell_type": "code",
   "execution_count": 34,
   "id": "8d44ee56",
   "metadata": {},
   "outputs": [
    {
     "data": {
      "text/plain": [
       "'boolean expected'"
      ]
     },
     "execution_count": 34,
     "metadata": {},
     "output_type": "execute_result"
    }
   ],
   "source": [
    "def boolean_check(a):\n",
    "    if type(a)==bool:\n",
    "        return not a\n",
    "    else:\n",
    "        return \"boolean expected\"\n",
    "boolean_check(None)"
   ]
  },
  {
   "cell_type": "markdown",
   "id": "4c0ed989",
   "metadata": {},
   "source": [
    "# Question3 Create a function that returns the thickness (in meters) of a piece of paper after folding it n number of times. The paper starts off with a thickness of 0.5mm."
   ]
  },
  {
   "cell_type": "code",
   "execution_count": 52,
   "id": "51ea8948",
   "metadata": {},
   "outputs": [
    {
     "data": {
      "text/plain": [
       "0.001"
      ]
     },
     "execution_count": 52,
     "metadata": {},
     "output_type": "execute_result"
    }
   ],
   "source": [
    "def num_layer(n):\n",
    "    thickness_mm = 0.5\n",
    "    thichness_m = 0.5*0.001\n",
    "    thickness_in_meter = thichness_m *2** n\n",
    "    return thickness_in_meter\n",
    "num_layer(1)"
   ]
  },
  {
   "cell_type": "markdown",
   "id": "4f770244",
   "metadata": {},
   "source": [
    "# Question4 Create a function that takes a single string as argument and returns an ordered list containing the indices of all capital letters in the string."
   ]
  },
  {
   "cell_type": "code",
   "execution_count": null,
   "id": "87e7eaa7",
   "metadata": {},
   "outputs": [],
   "source": [
    "#index_of_caps(\"eDaBiT\") ➞ [1, 3, 5]"
   ]
  },
  {
   "cell_type": "code",
   "execution_count": 72,
   "id": "d2c7c501",
   "metadata": {},
   "outputs": [
    {
     "data": {
      "text/plain": [
       "[1, 3, 4, 6]"
      ]
     },
     "execution_count": 72,
     "metadata": {},
     "output_type": "execute_result"
    }
   ],
   "source": [
    "def index_of_caps(a):\n",
    "    caps_index = [ i for i in range(len(a)) if a[i].isupper()]\n",
    "    return caps_index \n",
    "index_of_caps(\"eQuINoX\")"
   ]
  },
  {
   "cell_type": "markdown",
   "id": "664af88e",
   "metadata": {},
   "source": [
    "# Question5 : Using list comprehensions, create a function that finds all even numbers from 1 to the given number."
   ]
  },
  {
   "cell_type": "code",
   "execution_count": 74,
   "id": "599d71be",
   "metadata": {},
   "outputs": [
    {
     "data": {
      "text/plain": [
       "[2, 4, 6, 8]"
      ]
     },
     "execution_count": 74,
     "metadata": {},
     "output_type": "execute_result"
    }
   ],
   "source": [
    "def find_even_nums(a):\n",
    "    num = [i for i in range(1,a+1) if i%2 ==0]\n",
    "    return num\n",
    "find_even_nums(8)"
   ]
  },
  {
   "cell_type": "code",
   "execution_count": null,
   "id": "79d88c0a",
   "metadata": {},
   "outputs": [],
   "source": []
  }
 ],
 "metadata": {
  "kernelspec": {
   "display_name": "Python 3 (ipykernel)",
   "language": "python",
   "name": "python3"
  },
  "language_info": {
   "codemirror_mode": {
    "name": "ipython",
    "version": 3
   },
   "file_extension": ".py",
   "mimetype": "text/x-python",
   "name": "python",
   "nbconvert_exporter": "python",
   "pygments_lexer": "ipython3",
   "version": "3.9.12"
  }
 },
 "nbformat": 4,
 "nbformat_minor": 5
}
