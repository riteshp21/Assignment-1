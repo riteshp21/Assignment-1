{
 "cells": [
  {
   "cell_type": "code",
   "execution_count": 20,
   "id": "06bb1faa",
   "metadata": {},
   "outputs": [
    {
     "name": "stdout",
     "output_type": "stream",
     "text": [
      "Enter Km : 1\n",
      "1 Km is equal to 0.62137119 Miles\n"
     ]
    }
   ],
   "source": [
    "#1. Write a Python program to convert kilometers to miles?\n",
    "#1 kilometer = 0.62137119 miles\n",
    "Km = eval(input(\"Enter Km : \"))\n",
    "Miles = Km*0.62137119\n",
    "print(f\"{Km} Km is equal to\",Miles,\"Miles\")"
   ]
  },
  {
   "cell_type": "code",
   "execution_count": 26,
   "id": "a4f3b80d",
   "metadata": {},
   "outputs": [
    {
     "name": "stdout",
     "output_type": "stream",
     "text": [
      "Enter Degree Celcius :1\n",
      "1 C is equal to 33.8 \n"
     ]
    }
   ],
   "source": [
    "#2. Write a Python program to convert Celsius to Fahrenheit?\n",
    "C = eval(input(\"Enter Degree Celcius :\"))\n",
    "\n",
    "F = C * (9/5) + 32\n",
    "print(f\"{C} C is equal to {F} \")"
   ]
  },
  {
   "cell_type": "code",
   "execution_count": 29,
   "id": "63c744d0",
   "metadata": {},
   "outputs": [
    {
     "name": "stdout",
     "output_type": "stream",
     "text": [
      "     June 2022\n",
      "Mo Tu We Th Fr Sa Su\n",
      "       1  2  3  4  5\n",
      " 6  7  8  9 10 11 12\n",
      "13 14 15 16 17 18 19\n",
      "20 21 22 23 24 25 26\n",
      "27 28 29 30\n",
      "\n"
     ]
    }
   ],
   "source": [
    "#3. Write a Python program to display calendar?\n",
    "\n",
    "import calendar\n",
    "\n",
    "yy = 2022  \n",
    "mm = 6\n",
    "dd = 28 \n",
    "\n",
    "print(calendar.month(yy, mm))\n"
   ]
  },
  {
   "cell_type": "code",
   "execution_count": 9,
   "id": "22ac3820",
   "metadata": {},
   "outputs": [
    {
     "name": "stdout",
     "output_type": "stream",
     "text": [
      "The solution are -1.0 and -1.0\n"
     ]
    }
   ],
   "source": [
    "#4. Write a Python program to solve quadratic equation?\n",
    "# Eq: ax**2 + bx + c = 0\n",
    "\n",
    "\n",
    "a = 2\n",
    "b = 4\n",
    "c = 2\n",
    "\n",
    "d = (b**2) - (4*a*c)\n",
    "\n",
    "value1 = (-b-d**0.5)/(2*a)\n",
    "value2 = (-b+d**0.5)/(2*a)\n",
    "\n",
    "print('The solution are {0} and {1}'.format(value1,value2))\n",
    "\n"
   ]
  },
  {
   "cell_type": "code",
   "execution_count": 30,
   "id": "19b2ea47",
   "metadata": {},
   "outputs": [
    {
     "name": "stdout",
     "output_type": "stream",
     "text": [
      "6 5\n"
     ]
    }
   ],
   "source": [
    "#5. Write a Python program to swap two variables without temp variable?\n",
    "a=5\n",
    "b=6\n",
    "a, b = b, a\n",
    "print(a,b)"
   ]
  },
  {
   "cell_type": "code",
   "execution_count": null,
   "id": "e23877de",
   "metadata": {},
   "outputs": [],
   "source": [
    "\n"
   ]
  },
  {
   "cell_type": "code",
   "execution_count": null,
   "id": "9b8107c2",
   "metadata": {},
   "outputs": [],
   "source": []
  }
 ],
 "metadata": {
  "kernelspec": {
   "display_name": "Python 3 (ipykernel)",
   "language": "python",
   "name": "python3"
  },
  "language_info": {
   "codemirror_mode": {
    "name": "ipython",
    "version": 3
   },
   "file_extension": ".py",
   "mimetype": "text/x-python",
   "name": "python",
   "nbconvert_exporter": "python",
   "pygments_lexer": "ipython3",
   "version": "3.9.12"
  }
 },
 "nbformat": 4,
 "nbformat_minor": 5
}
