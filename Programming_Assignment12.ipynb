{
 "cells": [
  {
   "cell_type": "code",
   "execution_count": 8,
   "id": "76629a23",
   "metadata": {},
   "outputs": [
    {
     "name": "stdout",
     "output_type": "stream",
     "text": [
      "dictionary unique values {'mango', 'banana', 'tree'}\n"
     ]
    }
   ],
   "source": [
    "#1. Write a Python program to Extract Unique values dictionary values?\n",
    "d= {1:\"mango\",2:\"tree\",3:\"banana\",4:\"tree\"}\n",
    "l=[]\n",
    "for key,value in d.items():\n",
    "    l.append(value)\n",
    "print(\"dictionary unique values\",set(l))\n",
    "    \n",
    "    \n",
    "    \n",
    "    "
   ]
  },
  {
   "cell_type": "code",
   "execution_count": 23,
   "id": "6da02e73",
   "metadata": {},
   "outputs": [
    {
     "name": "stdout",
     "output_type": "stream",
     "text": [
      "sum of key is '12345' and sum of values is 'mangotreebananatree657'\n"
     ]
    }
   ],
   "source": [
    "#2. Write a Python program to find the sum of all items in a dictionary?\n",
    "d= {1:\"mango\",2:\"tree\",3:\"banana\",4:\"tree\",5:657}\n",
    "\n",
    "key=\"\"\n",
    "value=\"\"\n",
    "\n",
    "for k,v in d.items():\n",
    "    if type(k)==int or type(k)==int:\n",
    "        key =key+str(k)\n",
    "    if type(v)==int or type(v)==str:\n",
    "        value =value+str(v)\n",
    "    \n",
    "print(f\"sum of key is '{key}' and sum of values is '{value}'\")\n",
    "        \n",
    "        \n"
   ]
  },
  {
   "cell_type": "code",
   "execution_count": 28,
   "id": "af096395",
   "metadata": {},
   "outputs": [
    {
     "data": {
      "text/plain": [
       "{1: 'mango', 2: 'toing', 3: 'banana', 4: 'tree', 5: 657, 6: 'tango'}"
      ]
     },
     "execution_count": 28,
     "metadata": {},
     "output_type": "execute_result"
    }
   ],
   "source": [
    "#3. Write a Python program to Merging two Dictionaries?\n",
    "\n",
    "d= {1:\"mango\",2:\"tree\",3:\"banana\",4:\"tree\",5:657}\n",
    "d1= {6:\"tango\",2:\"toing\"}\n",
    "\n",
    "d.update(d1)\n",
    "d\n"
   ]
  },
  {
   "cell_type": "code",
   "execution_count": 46,
   "id": "c418272a",
   "metadata": {},
   "outputs": [
    {
     "name": "stdout",
     "output_type": "stream",
     "text": [
      "{1: 'Jan', 2: 'Feb', 3: 'March'}\n"
     ]
    }
   ],
   "source": [
    "#4. Write a Python program to convert key-values list to flat dictionary?\n",
    "\n",
    "d= {\"name\": [\"Jan\", \"Feb\", \"March\"], \"month\": [1, 2, 3]} \n",
    "#Flattened dictionary : {1: ‘Jan’, 2: ‘Feb’, 3: ‘March’}\n",
    "\n",
    "name=d[k]\n",
    "month=d[k]\n",
    "for k in d:\n",
    "    if \"name\"==k:\n",
    "        name=d[k]\n",
    "        \n",
    "    elif \"month\"==k:\n",
    "        month=d[k]\n",
    "\n",
    "d={}\n",
    "l=len(name)\n",
    "for i in range(l):\n",
    "    d.update({month[i]:name[i]})\n",
    "print(d)\n",
    "\n"
   ]
  },
  {
   "cell_type": "code",
   "execution_count": null,
   "id": "1dd25658",
   "metadata": {},
   "outputs": [],
   "source": []
  },
  {
   "cell_type": "code",
   "execution_count": 60,
   "id": "256a84ae",
   "metadata": {},
   "outputs": [
    {
     "data": {
      "text/plain": [
       "{4: 'April', 5: 'May', 1: 'Jan', 2: 'Feb', 3: 'March'}"
      ]
     },
     "execution_count": 60,
     "metadata": {},
     "output_type": "execute_result"
    }
   ],
   "source": [
    "#5. Write a Python program to insertion at the beginning in OrderedDict?\n",
    "d = {1: 'Jan', 2: 'Feb', 3: 'March'}\n",
    "d1={4:\"April\",5:\"May\"}\n",
    "d1.update(d)\n",
    "d1"
   ]
  },
  {
   "cell_type": "code",
   "execution_count": 65,
   "id": "7da47c08",
   "metadata": {},
   "outputs": [],
   "source": [
    "#6. Write a Python program to check order of character in string using OrderedDict()?\n",
    "\n",
    "d = {4: 'April', 5: 'May', 1: 'Jan', 2: 'Feb', 3: 'March'}\n",
    "\n"
   ]
  },
  {
   "cell_type": "code",
   "execution_count": 90,
   "id": "cac2f0a3",
   "metadata": {},
   "outputs": [
    {
     "name": "stdout",
     "output_type": "stream",
     "text": [
      "Dictionary order by Keys {1: 'Jan', 2: 'Feb', 3: 'March', 4: 'April', 5: 'May'}\n"
     ]
    }
   ],
   "source": [
    "#7. Write a Python program to sort Python Dictionaries by Key or Value?\n",
    "d = {4: 'April', 5: 'May', 1: 'Jan', 2: 'Feb', 3: 'March'}\n",
    "key=[]\n",
    "for i in d.keys():\n",
    "    key.append(i)\n",
    "    key.sort()\n",
    "d = {4: 'April', 5: 'May', 1: 'Jan', 2: 'Feb', 3: 'March'}\n",
    "d1={}\n",
    "for i in key:\n",
    "    d1.update({i:d[i]})\n",
    "print(\"Dictionary order by Keys\",d1)\n"
   ]
  },
  {
   "cell_type": "code",
   "execution_count": 107,
   "id": "bda58ba8",
   "metadata": {},
   "outputs": [
    {
     "name": "stdout",
     "output_type": "stream",
     "text": [
      "{1: 'Jan', 2: 'Feb', 3: 'March', 4: 'April', 5: 'May'}\n"
     ]
    }
   ],
   "source": [
    "from collections import OrderedDict\n",
    "d = {4: 'April', 5: 'May', 1: 'Jan', 2: 'Feb', 3: 'March'}\n",
    "d1=OrderedDict(sorted(d.items()))\n",
    "print(dict(d1))"
   ]
  },
  {
   "cell_type": "code",
   "execution_count": 95,
   "id": "2986055a",
   "metadata": {},
   "outputs": [],
   "source": []
  },
  {
   "cell_type": "code",
   "execution_count": null,
   "id": "989d0001",
   "metadata": {},
   "outputs": [],
   "source": []
  }
 ],
 "metadata": {
  "kernelspec": {
   "display_name": "Python 3 (ipykernel)",
   "language": "python",
   "name": "python3"
  },
  "language_info": {
   "codemirror_mode": {
    "name": "ipython",
    "version": 3
   },
   "file_extension": ".py",
   "mimetype": "text/x-python",
   "name": "python",
   "nbconvert_exporter": "python",
   "pygments_lexer": "ipython3",
   "version": "3.9.12"
  }
 },
 "nbformat": 4,
 "nbformat_minor": 5
}
