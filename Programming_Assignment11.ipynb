{
 "cells": [
  {
   "cell_type": "code",
   "execution_count": 6,
   "id": "e4bdfac9",
   "metadata": {},
   "outputs": [
    {
     "name": "stdout",
     "output_type": "stream",
     "text": [
      "Enter a Number4\n",
      "strinbgh\n"
     ]
    }
   ],
   "source": [
    "#1. Write a Python program to find words which are greater than given length k?\n",
    "\n",
    "a=\"strinbgh\"\n",
    "length=len(a)\n",
    "k=int(input(\"Enter a Number\"))\n",
    "if k < length:\n",
    "    print(a)"
   ]
  },
  {
   "cell_type": "code",
   "execution_count": 10,
   "id": "49d93b8a",
   "metadata": {},
   "outputs": [
    {
     "data": {
      "text/plain": [
       "'trinbgh'"
      ]
     },
     "execution_count": 10,
     "metadata": {},
     "output_type": "execute_result"
    }
   ],
   "source": [
    "#2. Write a Python program for removing i-th character from a string?\n",
    "\n",
    "a=\"strinbgh\"\n",
    "\n",
    "a.replace(a[0],\"\")\n",
    "\n",
    "index = enter(\"\")"
   ]
  },
  {
   "cell_type": "code",
   "execution_count": 11,
   "id": "20f823b3",
   "metadata": {},
   "outputs": [
    {
     "name": "stdout",
     "output_type": "stream",
     "text": [
      "['st', 'inbgh']\n",
      "strinbgh\n"
     ]
    }
   ],
   "source": [
    "#3. Write a Python program to split and join a string?\n",
    "\n",
    "#spliting string\n",
    "a =\"strinbgh\"\n",
    "p=a.split(\"r\")\n",
    "print(p)\n",
    "#joining the same string\n",
    "k=\"r\".join(p)\n",
    "print(k)\n"
   ]
  },
  {
   "cell_type": "code",
   "execution_count": 106,
   "id": "aa64aaf0",
   "metadata": {},
   "outputs": [
    {
     "name": "stdout",
     "output_type": "stream",
     "text": [
      "Binary\n"
     ]
    }
   ],
   "source": [
    "#4. Write a Python to check if a given string is binary string or not?\n",
    "x=\"10101\"\n",
    "\n",
    "s={\"0\",\"1\"}\n",
    "p=set(x)\n",
    "if s==p or p=={\"0\"} or p=={\"1\"}:\n",
    "    print(\"Binary\")\n",
    "else:\n",
    "    print(\"Not Binary\")\n",
    "        \n",
    "    \n",
    "        \n",
    "  \n"
   ]
  },
  {
   "cell_type": "code",
   "execution_count": 127,
   "id": "7ac36a8e",
   "metadata": {},
   "outputs": [
    {
     "name": "stdout",
     "output_type": "stream",
     "text": [
      "['c']\n"
     ]
    }
   ],
   "source": [
    "#5. Write a Python program to find uncommon words from two Strings?\n",
    "s=\"fffgcggg\"\n",
    "t=[]\n",
    "for i in s:\n",
    " \n",
    "    if s.count(i)==1:\n",
    "        t.append(i)\n",
    "       \n",
    "print(t)\n"
   ]
  },
  {
   "cell_type": "code",
   "execution_count": 132,
   "id": "56a188c7",
   "metadata": {},
   "outputs": [
    {
     "name": "stdout",
     "output_type": "stream",
     "text": [
      "['f', 'f', 'f', 'g', 'g', 'g', 'g']\n"
     ]
    }
   ],
   "source": [
    "#6. Write a Python to find all duplicate characters in string?\n",
    "s=\"fffgcggg\"\n",
    "t=[]\n",
    "for i in s:\n",
    " \n",
    "    if s.count(i)>1:\n",
    "        t.append(i)\n",
    "       \n",
    "\n",
    "print(t)\n"
   ]
  },
  {
   "cell_type": "code",
   "execution_count": 150,
   "id": "559f8029",
   "metadata": {},
   "outputs": [
    {
     "name": "stdout",
     "output_type": "stream",
     "text": [
      "string does not contain special char\n"
     ]
    }
   ],
   "source": [
    "#7. Write a Python Program to check if a string contains any special character?\n",
    "s = \"!#$%&'()*+,-./:;<=>?@[\\]^_`{|}~\"\n",
    "\n",
    "s1=\"tdbdf\"\n",
    "\n",
    "for i in s1:\n",
    "    if i in s:\n",
    "        print(\"string contain special char\")\n",
    "\n",
    "    \n"
   ]
  },
  {
   "cell_type": "code",
   "execution_count": 163,
   "id": "1a58b4ef",
   "metadata": {},
   "outputs": [],
   "source": [
    "#7. Write a Python Program to check if a string contains any special character?\n",
    "s = \"!#$%&'()*+,-./:;<=>?@[\\]^_`{|}~\"\n",
    "s1=\"tdbdf@$a\"\n",
    "\n",
    "p = [\"special char coming\" for x in s1 if x  in s ]"
   ]
  },
  {
   "cell_type": "code",
   "execution_count": 164,
   "id": "3eea7025",
   "metadata": {},
   "outputs": [
    {
     "data": {
      "text/plain": [
       "{'special char coming'}"
      ]
     },
     "execution_count": 164,
     "metadata": {},
     "output_type": "execute_result"
    }
   ],
   "source": [
    "set(p)"
   ]
  },
  {
   "cell_type": "code",
   "execution_count": null,
   "id": "df400c92",
   "metadata": {},
   "outputs": [],
   "source": []
  }
 ],
 "metadata": {
  "kernelspec": {
   "display_name": "Python 3 (ipykernel)",
   "language": "python",
   "name": "python3"
  },
  "language_info": {
   "codemirror_mode": {
    "name": "ipython",
    "version": 3
   },
   "file_extension": ".py",
   "mimetype": "text/x-python",
   "name": "python",
   "nbconvert_exporter": "python",
   "pygments_lexer": "ipython3",
   "version": "3.9.12"
  }
 },
 "nbformat": 4,
 "nbformat_minor": 5
}
