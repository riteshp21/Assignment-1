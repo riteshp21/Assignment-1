{
 "cells": [
  {
   "cell_type": "code",
   "execution_count": 1,
   "id": "ebaa4217",
   "metadata": {},
   "outputs": [
    {
     "name": "stdout",
     "output_type": "stream",
     "text": [
      "The factorial of 3 is 6\n"
     ]
    }
   ],
   "source": [
    "#1.Write a Python Program to Display Fibonacci Sequence Using Recursion?\n",
    "def factorial(x):\n",
    "   \n",
    "\n",
    "    if x == 1:\n",
    "        return 1\n",
    "    else:\n",
    "        return (x * factorial(x-1))\n",
    "\n",
    "\n",
    "num = 3\n",
    "print(\"The factorial of\", num, \"is\", factorial(num))"
   ]
  },
  {
   "cell_type": "code",
   "execution_count": 2,
   "id": "47b2537a",
   "metadata": {},
   "outputs": [
    {
     "name": "stdout",
     "output_type": "stream",
     "text": [
      "Fibonacci sequence:\n",
      "0\n",
      "1\n",
      "1\n",
      "2\n",
      "3\n",
      "5\n",
      "8\n",
      "13\n",
      "21\n",
      "34\n"
     ]
    }
   ],
   "source": [
    "#2. Write a Python Program to Display Fibonacci Sequence Using Recursion?\n",
    "\n",
    "def recur_fibo(n):\n",
    "   if n <= 1:\n",
    "       return n\n",
    "   else:\n",
    "       return(recur_fibo(n-1) + recur_fibo(n-2))\n",
    "\n",
    "nterms = 10\n",
    "\n",
    "if nterms <= 0:\n",
    "   print(\"Plese enter a positive integer\")\n",
    "else:\n",
    "   print(\"Fibonacci sequence:\")\n",
    "   for i in range(nterms):\n",
    "       print(recur_fibo(i))\n"
   ]
  },
  {
   "cell_type": "code",
   "execution_count": 10,
   "id": "ddb89002",
   "metadata": {},
   "outputs": [
    {
     "name": "stdout",
     "output_type": "stream",
     "text": [
      "you're in the healthy weight range\n"
     ]
    }
   ],
   "source": [
    "#3. Write a Python Program to calculate your Body Mass Index?\n",
    "#below 18.5 – you're in the underweight range\n",
    "#between 18.5 and 24.9 – you're in the healthy weight range\n",
    "#between 25 and 29.9 – you're in the overweight range\n",
    "#between 30 and 39.9 – you're in the obese range\n",
    "\n",
    "def BMI(weight,height):\n",
    "    BMI = (weight)/(height*height)#Formula\n",
    "    \n",
    "    if BMI <18.5:\n",
    "        return  \"you're in the underweight range\"\n",
    "    \n",
    "    elif BMI >18.5 and BMI <=24.9:\n",
    "        return  \"you're in the healthy weight range\"\n",
    "    \n",
    "    \n",
    "    elif BMI >25 and BMI <=29.9:\n",
    "        return  \"you're in the overweight range\"\n",
    "    \n",
    "    elif BMI >30 and BMI <=39.9:\n",
    "        return  \"you're in the obese range\"\n",
    "    \n",
    "    elif BMI >30 and BMI <=39.9:\n",
    "        return  \"you're in the obese range\"\n",
    "        \n",
    "print(BMI(70,1.79832))"
   ]
  },
  {
   "cell_type": "code",
   "execution_count": 12,
   "id": "fe1cd64c",
   "metadata": {},
   "outputs": [
    {
     "data": {
      "text/plain": [
       "2.302585092994046"
      ]
     },
     "execution_count": 12,
     "metadata": {},
     "output_type": "execute_result"
    }
   ],
   "source": [
    "#4. Write a Python Program to calculate the natural logarithm of any number?\n",
    "import math\n",
    "\n",
    "math.log( 10 )"
   ]
  },
  {
   "cell_type": "code",
   "execution_count": null,
   "id": "e68c0f18",
   "metadata": {},
   "outputs": [],
   "source": [
    "#5. Write a Python Program for cube sum of first n natural numbers?"
   ]
  },
  {
   "cell_type": "code",
   "execution_count": 48,
   "id": "8047d110",
   "metadata": {},
   "outputs": [],
   "source": [
    "def cube_of_n_natural_number(n):\n",
    "    p=[i*i*i for i in range(1,6)]\n",
    "    \n",
    "    return sum(p)"
   ]
  },
  {
   "cell_type": "code",
   "execution_count": 49,
   "id": "788daec6",
   "metadata": {},
   "outputs": [
    {
     "data": {
      "text/plain": [
       "225"
      ]
     },
     "execution_count": 49,
     "metadata": {},
     "output_type": "execute_result"
    }
   ],
   "source": [
    "cube_of_n_natural_number(6)"
   ]
  },
  {
   "cell_type": "code",
   "execution_count": 50,
   "id": "b813e901",
   "metadata": {},
   "outputs": [],
   "source": []
  },
  {
   "cell_type": "code",
   "execution_count": null,
   "id": "b671021f",
   "metadata": {},
   "outputs": [],
   "source": []
  },
  {
   "cell_type": "code",
   "execution_count": null,
   "id": "58426006",
   "metadata": {},
   "outputs": [],
   "source": []
  },
  {
   "cell_type": "code",
   "execution_count": null,
   "id": "ed80d702",
   "metadata": {},
   "outputs": [],
   "source": []
  },
  {
   "cell_type": "code",
   "execution_count": null,
   "id": "2cd95129",
   "metadata": {},
   "outputs": [],
   "source": []
  }
 ],
 "metadata": {
  "kernelspec": {
   "display_name": "Python 3 (ipykernel)",
   "language": "python",
   "name": "python3"
  },
  "language_info": {
   "codemirror_mode": {
    "name": "ipython",
    "version": 3
   },
   "file_extension": ".py",
   "mimetype": "text/x-python",
   "name": "python",
   "nbconvert_exporter": "python",
   "pygments_lexer": "ipython3",
   "version": "3.9.12"
  }
 },
 "nbformat": 4,
 "nbformat_minor": 5
}
