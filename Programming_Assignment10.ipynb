{
 "cells": [
  {
   "cell_type": "code",
   "execution_count": 2,
   "id": "863f5eb8",
   "metadata": {},
   "outputs": [
    {
     "data": {
      "text/plain": [
       "34"
      ]
     },
     "execution_count": 2,
     "metadata": {},
     "output_type": "execute_result"
    }
   ],
   "source": [
    "#1. Write a Python program to find sum of elements in list?\n",
    "List1 =[3,5,8,12,6]\n",
    "sum1=sum(List1)\n",
    "sum1"
   ]
  },
  {
   "cell_type": "code",
   "execution_count": 9,
   "id": "ed9ca206",
   "metadata": {},
   "outputs": [
    {
     "name": "stdout",
     "output_type": "stream",
     "text": [
      "8640\n"
     ]
    }
   ],
   "source": [
    "#2. Write a Python program to Multiply all numbers in the list?\n",
    "List1 =[3,5,8,12,6]\n",
    "mul1=1\n",
    "for i in List1:\n",
    "    mul1=i*mul1\n",
    "print(mul1)\n",
    "    \n"
   ]
  },
  {
   "cell_type": "code",
   "execution_count": 8,
   "id": "cdc84681",
   "metadata": {},
   "outputs": [
    {
     "data": {
      "text/plain": [
       "3"
      ]
     },
     "execution_count": 8,
     "metadata": {},
     "output_type": "execute_result"
    }
   ],
   "source": [
    "#3. Write a Python program to find smallest number in a list?\n",
    "l =[3,5,8,12,6]\n",
    "\n",
    "min_number=min(l)\n",
    "min_number"
   ]
  },
  {
   "cell_type": "code",
   "execution_count": 11,
   "id": "6026339b",
   "metadata": {},
   "outputs": [
    {
     "data": {
      "text/plain": [
       "12"
      ]
     },
     "execution_count": 11,
     "metadata": {},
     "output_type": "execute_result"
    }
   ],
   "source": [
    "#4. Write a Python program to find largest number in a list?\n",
    "l =[3,5,8,12,6]\n",
    "\n",
    "max_number=max(l)\n",
    "max_number"
   ]
  },
  {
   "cell_type": "code",
   "execution_count": 17,
   "id": "93e22802",
   "metadata": {},
   "outputs": [
    {
     "name": "stdout",
     "output_type": "stream",
     "text": [
      "[3, 5, 6, 8, 12]\n",
      "8\n"
     ]
    }
   ],
   "source": [
    "#5. Write a Python program to find second largest number in a list?\n",
    "l =[3,5,8,12,6]\n",
    "l.sort()\n",
    "print(l[len(l)-2])"
   ]
  },
  {
   "cell_type": "code",
   "execution_count": 29,
   "id": "5fb6b205",
   "metadata": {},
   "outputs": [
    {
     "name": "stdout",
     "output_type": "stream",
     "text": [
      "sorted list is [3, 5, 6, 8, 12]\n",
      "enter the number to extract max number from list: 2\n",
      "12\n",
      "8\n"
     ]
    }
   ],
   "source": [
    "#6. Write a Python program to find N largest elements from a list?\n",
    "l =[3,5,8,12,6]\n",
    "l.sort()\n",
    "print(\"sorted list is\",l)\n",
    "n=int(input(\"enter the number to extract max number from list: \"))\n",
    "l1=len(l)\n",
    "i=0\n",
    "while i<n:\n",
    "    print(l[l1-1-i])\n",
    "    i+=1"
   ]
  },
  {
   "cell_type": "code",
   "execution_count": 38,
   "id": "8e4b31c4",
   "metadata": {},
   "outputs": [
    {
     "name": "stdout",
     "output_type": "stream",
     "text": [
      "2\n",
      "4\n",
      "6\n",
      "8\n",
      "10\n"
     ]
    }
   ],
   "source": [
    "#7. Write a Python program to print even numbers in a list?\n",
    "l=[1,2,3,4,5,6,7,8,9,10]\n",
    "for i in l:\n",
    "    if i %2 ==0:\n",
    "        print(i)\n",
    "        \n"
   ]
  },
  {
   "cell_type": "code",
   "execution_count": 39,
   "id": "3ab9212a",
   "metadata": {},
   "outputs": [
    {
     "name": "stdout",
     "output_type": "stream",
     "text": [
      "1\n",
      "3\n",
      "5\n",
      "7\n",
      "9\n"
     ]
    }
   ],
   "source": [
    "#8. Write a Python program to print odd numbers in a List?\n",
    "l=[1,2,3,4,5,6,7,8,9,10]\n",
    "for i in l:\n",
    "    if i %2 !=0:\n",
    "        print(i)"
   ]
  },
  {
   "cell_type": "code",
   "execution_count": 56,
   "id": "0e9daa49",
   "metadata": {},
   "outputs": [
    {
     "data": {
      "text/plain": [
       "['Red', 'Green', [1, 2], 'Blue']"
      ]
     },
     "execution_count": 56,
     "metadata": {},
     "output_type": "execute_result"
    }
   ],
   "source": [
    "#9. Write a Python program to Remove empty List from List?\n",
    "list1 = [[], [], [], 'Red', 'Green', [1,2], 'Blue', [], []]\n",
    "list2=[]\n",
    "for i in list1:\n",
    "    if i:\n",
    "        list2.append(i)\n",
    "list2\n"
   ]
  },
  {
   "cell_type": "code",
   "execution_count": 60,
   "id": "d780dc40",
   "metadata": {},
   "outputs": [
    {
     "name": "stdout",
     "output_type": "stream",
     "text": [
      "[1, 2, 3, 4, 5, 6, 7, 8, 9, 10]\n"
     ]
    }
   ],
   "source": [
    "#10. Write a Python program to Cloning or Copying a list?\n",
    "l=[1,2,3,4,5,6,7,8,9,10]\n",
    "l1=l.copy()\n",
    "print(l1)"
   ]
  },
  {
   "cell_type": "code",
   "execution_count": 64,
   "id": "87adceeb",
   "metadata": {},
   "outputs": [
    {
     "data": {
      "text/plain": [
       "3"
      ]
     },
     "execution_count": 64,
     "metadata": {},
     "output_type": "execute_result"
    }
   ],
   "source": [
    "#11. Write a Python program to Count occurrences of an element in a list?\n",
    "l=[1, 2, 3, 4, 6, 6, 6, 8, 9, 10]\n",
    "\n",
    "l.count(6)\n",
    "\n"
   ]
  },
  {
   "cell_type": "code",
   "execution_count": null,
   "id": "8949c6ba",
   "metadata": {},
   "outputs": [],
   "source": []
  }
 ],
 "metadata": {
  "kernelspec": {
   "display_name": "Python 3 (ipykernel)",
   "language": "python",
   "name": "python3"
  },
  "language_info": {
   "codemirror_mode": {
    "name": "ipython",
    "version": 3
   },
   "file_extension": ".py",
   "mimetype": "text/x-python",
   "name": "python",
   "nbconvert_exporter": "python",
   "pygments_lexer": "ipython3",
   "version": "3.9.12"
  }
 },
 "nbformat": 4,
 "nbformat_minor": 5
}
