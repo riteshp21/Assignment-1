{
 "cells": [
  {
   "cell_type": "code",
   "execution_count": 9,
   "id": "a624be0e",
   "metadata": {},
   "outputs": [
    {
     "name": "stdout",
     "output_type": "stream",
     "text": [
      "Enter a Number6\n"
     ]
    },
    {
     "data": {
      "text/plain": [
       "720"
      ]
     },
     "execution_count": 9,
     "metadata": {},
     "output_type": "execute_result"
    }
   ],
   "source": [
    "#1. Write a Python Program to Find the Factorial of a Number?\n",
    "Num =int(input(\"Enter a Number\"))\n",
    "Factorial = 1\n",
    "for i in range(1,Num+1):\n",
    "    Factorial *=i\n",
    "    \n",
    "\n",
    "    \n",
    "Factorial"
   ]
  },
  {
   "cell_type": "code",
   "execution_count": 14,
   "id": "d87a4a9d",
   "metadata": {},
   "outputs": [
    {
     "name": "stdout",
     "output_type": "stream",
     "text": [
      "Enter a Number6\n",
      "6 x 1 =6\n",
      "6 x 2 =12\n",
      "6 x 3 =18\n",
      "6 x 4 =24\n",
      "6 x 5 =30\n",
      "6 x 6 =36\n",
      "6 x 7 =42\n",
      "6 x 8 =48\n",
      "6 x 9 =54\n",
      "6 x 10 =60\n"
     ]
    }
   ],
   "source": [
    "#2. Write a Python Program to Display the multiplication Table?\n",
    "Num = int(input(\"Enter a Number\"))\n",
    "\n",
    "for i in range(1,11):\n",
    "    print(f\"{Num} x {i} ={i*Num}\")"
   ]
  },
  {
   "cell_type": "code",
   "execution_count": 27,
   "id": "864af6a9",
   "metadata": {},
   "outputs": [
    {
     "name": "stdout",
     "output_type": "stream",
     "text": [
      "How many terms? 5\n",
      "Fibonacci sequence:\n",
      "0\n",
      "1\n",
      "1\n",
      "2\n",
      "3\n"
     ]
    }
   ],
   "source": [
    "#3. Write a Python Program to Print the Fibonacci sequence?\n",
    "\n",
    "num = int(input(\"How many terms? \"))\n",
    "\n",
    "\n",
    "n1, n2 = 0, 1\n",
    "count = 0\n",
    "\n",
    "if num <= 0:\n",
    "   print(\"Please enter a positive integer\")\n",
    "elif num == 1:\n",
    "   print(\"Fibonacci sequence upto\",num,\":\")\n",
    "   print(n1)\n",
    "else:\n",
    "   print(\"Fibonacci sequence:\")\n",
    "   while count < num:\n",
    "       print(n1)\n",
    "       nth = n1 + n2\n",
    "       n1 = n2\n",
    "       n2 = nth\n",
    "       count += 1\n",
    "\n"
   ]
  },
  {
   "cell_type": "code",
   "execution_count": 126,
   "id": "43849165",
   "metadata": {
    "scrolled": true
   },
   "outputs": [
    {
     "name": "stdout",
     "output_type": "stream",
     "text": [
      "Enter the number to Check Armstrong Number 9474\n",
      "9474  is Armstrong Number\n"
     ]
    }
   ],
   "source": [
    "#4. Write a Python Program to Check Armstrong Number?\n",
    "Num = input(\"Enter the number to Check Armstrong Number \")\n",
    "\n",
    "List_cube=[]\n",
    "List1 = [str(a) for a in Num]\n",
    "#List2=str(\"\".join(List1))\n",
    "length = len(List1)\n",
    "i=0\n",
    "while i<length:\n",
    "    index = int(List1[i])**length\n",
    "    List_cube.append(index)\n",
    "    i+=1\n",
    "sum_of_cube_list =sum(List_cube)\n",
    "\n",
    "\n",
    "if sum_of_cube_list==int(Num):\n",
    "    print(f\"{Num}  is Armstrong Number\")\n",
    "else:\n",
    "    print(f\"{Num}  is not Armstrong Number\")"
   ]
  },
  {
   "cell_type": "code",
   "execution_count": 127,
   "id": "49339eb3",
   "metadata": {},
   "outputs": [
    {
     "name": "stdout",
     "output_type": "stream",
     "text": [
      "Arm Strong Number is [1, 2, 3, 4, 5, 6, 7, 8, 9, 153, 370, 371, 407, 1634]\n"
     ]
    }
   ],
   "source": [
    "#5. Write a Python Program to Find Armstrong Number in an Interval?\n",
    "\n",
    "Arm_strong_Number=[]\n",
    "for Num in range(1,4000):\n",
    "#    Num = input(\"Enter the number to Check Armstrong Number \")\n",
    "\n",
    "    List_cube = []\n",
    "    List1 = [str(a) for a in str(Num)]\n",
    "    # List2=str(\"\".join(List1))\n",
    "    length = len(List1)\n",
    "    i = 0\n",
    "    while i < length:\n",
    "        index = int(List1[i]) ** length\n",
    "        List_cube.append(index)\n",
    "        i += 1\n",
    "    sum_of_cube_list = sum(List_cube)\n",
    "\n",
    "    if sum_of_cube_list == int(Num):\n",
    "        Arm_strong_Number.append(Num)\n",
    "print(f\"Arm Strong Number is {Arm_strong_Number}\")"
   ]
  },
  {
   "cell_type": "code",
   "execution_count": 128,
   "id": "87c40140",
   "metadata": {},
   "outputs": [],
   "source": [
    "#6. Write a Python Program to Find the Sum of Natural Numbers?"
   ]
  },
  {
   "cell_type": "code",
   "execution_count": 129,
   "id": "478bfea5",
   "metadata": {},
   "outputs": [
    {
     "name": "stdout",
     "output_type": "stream",
     "text": [
      "The sum is 136\n"
     ]
    }
   ],
   "source": [
    "num = 16\n",
    "\n",
    "if num < 0:\n",
    "   print(\"Enter a positive number\")\n",
    "else:\n",
    "   sum = 0\n",
    "   while(num > 0):\n",
    "       sum += num\n",
    "       num -= 1\n",
    "   print(\"The sum is\", sum)"
   ]
  },
  {
   "cell_type": "code",
   "execution_count": 114,
   "id": "020c3f3e",
   "metadata": {},
   "outputs": [],
   "source": []
  },
  {
   "cell_type": "code",
   "execution_count": 115,
   "id": "703c5a69",
   "metadata": {},
   "outputs": [],
   "source": []
  },
  {
   "cell_type": "code",
   "execution_count": null,
   "id": "f526845b",
   "metadata": {},
   "outputs": [],
   "source": []
  },
  {
   "cell_type": "code",
   "execution_count": null,
   "id": "b5fed5cc",
   "metadata": {},
   "outputs": [],
   "source": []
  }
 ],
 "metadata": {
  "kernelspec": {
   "display_name": "Python 3 (ipykernel)",
   "language": "python",
   "name": "python3"
  },
  "language_info": {
   "codemirror_mode": {
    "name": "ipython",
    "version": 3
   },
   "file_extension": ".py",
   "mimetype": "text/x-python",
   "name": "python",
   "nbconvert_exporter": "python",
   "pygments_lexer": "ipython3",
   "version": "3.9.12"
  }
 },
 "nbformat": 4,
 "nbformat_minor": 5
}
