{
 "cells": [
  {
   "cell_type": "code",
   "execution_count": 4,
   "id": "316ea3dd",
   "metadata": {},
   "outputs": [
    {
     "name": "stdout",
     "output_type": "stream",
     "text": [
      "60\n"
     ]
    }
   ],
   "source": [
    "#1. Write a Python Program to find sum of array?\n",
    "\n",
    "print(sum([10, 20, 30]))\n",
    "\n"
   ]
  },
  {
   "cell_type": "code",
   "execution_count": 5,
   "id": "55c16d85",
   "metadata": {},
   "outputs": [
    {
     "name": "stdout",
     "output_type": "stream",
     "text": [
      "30\n"
     ]
    }
   ],
   "source": [
    "#2. Write a Python Program to find largest element in an array?\n",
    "\n",
    "print(max([10, 20, 30]))"
   ]
  },
  {
   "cell_type": "code",
   "execution_count": 6,
   "id": "50305608",
   "metadata": {},
   "outputs": [
    {
     "name": "stdout",
     "output_type": "stream",
     "text": [
      "[4, 5, 1, 2, 3]\n"
     ]
    }
   ],
   "source": [
    "#3. Write a Python Program for array rotation?\n",
    " \n",
    "arr = [1, 2, 3, 4, 5] \n",
    "n=0\n",
    "while n<3:#three time rotations\n",
    "    g=arr.pop(0)\n",
    "    arr.append(g)\n",
    "    n=n+1\n",
    "    \n",
    "    \n",
    "print(arr)"
   ]
  },
  {
   "cell_type": "code",
   "execution_count": 7,
   "id": "b4c896b7",
   "metadata": {},
   "outputs": [
    {
     "data": {
      "text/plain": [
       "[5, 6, 7, 8, 1, 2, 3, 4]"
      ]
     },
     "execution_count": 7,
     "metadata": {},
     "output_type": "execute_result"
    }
   ],
   "source": [
    "#4. Write a Python Program to Split the array and add the first part to the end?\n",
    "arr = [1, 2, 3, 4, 5,6,7,8] \n",
    "\n",
    "def arr_split(ar,n,m):\n",
    "    arr1 = arr[ : m]\n",
    "    return (arr[m: : ]+arr1[ : : ])\n",
    "\n",
    "arr_split(arr,len(arr),4)\n",
    "\n"
   ]
  },
  {
   "cell_type": "code",
   "execution_count": 3,
   "id": "c8f45a74",
   "metadata": {},
   "outputs": [
    {
     "name": "stdout",
     "output_type": "stream",
     "text": [
      "True\n"
     ]
    }
   ],
   "source": [
    "#5. Write a Python Program to check if given array is Monotonic?\n",
    "def isMonotonic(A):\n",
    "   return (all(A[i] <= A[i + 1] for i in range(len(A) - 1)) or\n",
    "      all(A[i] >= A[i + 1] for i in range(len(A) - 1)))\n",
    "A = [1,2,3,4,7,8]\n",
    "print(isMonotonic(A))"
   ]
  },
  {
   "cell_type": "code",
   "execution_count": null,
   "id": "3175e5ae",
   "metadata": {},
   "outputs": [],
   "source": []
  },
  {
   "cell_type": "code",
   "execution_count": null,
   "id": "bd6706b6",
   "metadata": {},
   "outputs": [],
   "source": []
  }
 ],
 "metadata": {
  "kernelspec": {
   "display_name": "Python 3 (ipykernel)",
   "language": "python",
   "name": "python3"
  },
  "language_info": {
   "codemirror_mode": {
    "name": "ipython",
    "version": 3
   },
   "file_extension": ".py",
   "mimetype": "text/x-python",
   "name": "python",
   "nbconvert_exporter": "python",
   "pygments_lexer": "ipython3",
   "version": "3.9.12"
  }
 },
 "nbformat": 4,
 "nbformat_minor": 5
}
