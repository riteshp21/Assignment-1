{
 "cells": [
  {
   "cell_type": "code",
   "execution_count": 1,
   "id": "71b24bc5",
   "metadata": {},
   "outputs": [
    {
     "data": {
      "text/plain": [
       "'Question1\\nWrite a function that takes a list and a number as arguments. Add the number to the end of\\nthe list, then remove the first element of the list. The function should then return the updated\\nlist.'"
      ]
     },
     "execution_count": 1,
     "metadata": {},
     "output_type": "execute_result"
    }
   ],
   "source": [
    "\"\"\"Question1\n",
    "Write a function that takes a list and a number as arguments. Add the number to the end of\n",
    "the list, then remove the first element of the list. The function should then return the updated\n",
    "list.\"\"\"\n",
    "#next_in_line([5, 6, 7, 8, 9], 1) ➞ [6, 7, 8, 9, 1]"
   ]
  },
  {
   "cell_type": "code",
   "execution_count": 2,
   "id": "c38c681a",
   "metadata": {},
   "outputs": [],
   "source": [
    "def next_in_line(lst,num):\n",
    "    if len(lst)==0:\n",
    "        return \"No list has been selected\"\n",
    "    else:\n",
    "        lst.remove(lst[0])\n",
    "        lst.append(num)\n",
    "        return lst"
   ]
  },
  {
   "cell_type": "code",
   "execution_count": 3,
   "id": "764a5e4e",
   "metadata": {},
   "outputs": [
    {
     "data": {
      "text/plain": [
       "'No list has been selected'"
      ]
     },
     "execution_count": 3,
     "metadata": {},
     "output_type": "execute_result"
    }
   ],
   "source": [
    "next_in_line([], 1)"
   ]
  },
  {
   "cell_type": "code",
   "execution_count": 4,
   "id": "fed38613",
   "metadata": {},
   "outputs": [
    {
     "data": {
      "text/plain": [
       "'\\nQuestion2\\nCreate the function that takes a list of dictionaries and returns the sum of people\\'s budgets.\\nExamples\\nget_budgets([\\n{ \"name\": \"John\", \"age\": 21, \"budget\": 23000 },\\n{ \"name\": \"Steve\", \"age\": 32, \"budget\": 40000 },\\n{ \"name\": \"Martin\", \"age\": 16, \"budget\": 2700 }\\n]) ➞ 65700\\nget_budgets([\\n{ \"name\": \"John\", \"age\": 21, \"budget\": 29000 },\\n{ \"name\": \"Steve\", \"age\": 32, \"budget\": 32000 },\\n{ \"name\": \"Martin\", \"age\": 16, \"budget\": 1600 }\\n]) ➞ 62600\\n'"
      ]
     },
     "execution_count": 4,
     "metadata": {},
     "output_type": "execute_result"
    }
   ],
   "source": [
    "\"\"\"\n",
    "Question2\n",
    "Create the function that takes a list of dictionaries and returns the sum of people's budgets.\n",
    "Examples\n",
    "get_budgets([\n",
    "{ \"name\": \"John\", \"age\": 21, \"budget\": 23000 },\n",
    "{ \"name\": \"Steve\", \"age\": 32, \"budget\": 40000 },\n",
    "{ \"name\": \"Martin\", \"age\": 16, \"budget\": 2700 }\n",
    "]) ➞ 65700\n",
    "get_budgets([\n",
    "{ \"name\": \"John\", \"age\": 21, \"budget\": 29000 },\n",
    "{ \"name\": \"Steve\", \"age\": 32, \"budget\": 32000 },\n",
    "{ \"name\": \"Martin\", \"age\": 16, \"budget\": 1600 }\n",
    "]) ➞ 62600\n",
    "\"\"\""
   ]
  },
  {
   "cell_type": "code",
   "execution_count": 5,
   "id": "e47ca179",
   "metadata": {},
   "outputs": [],
   "source": [
    "def get_budgets(dict):\n",
    "    Total_budget = 0\n",
    "    for e in dict:\n",
    "        Total_budget=e[\"budget\"]+Total_budget\n",
    "    return Total_budget\n",
    "    "
   ]
  },
  {
   "cell_type": "code",
   "execution_count": 6,
   "id": "acc32fba",
   "metadata": {},
   "outputs": [
    {
     "data": {
      "text/plain": [
       "62600"
      ]
     },
     "execution_count": 6,
     "metadata": {},
     "output_type": "execute_result"
    }
   ],
   "source": [
    "get_budgets([\n",
    "{ \"name\": \"John\", \"age\": 21, \"budget\": 29000 },\n",
    "{ \"name\": \"Steve\", \"age\": 32, \"budget\": 32000 },\n",
    "{ \"name\": \"Martin\", \"age\": 16, \"budget\": 1600 }\n",
    "])"
   ]
  },
  {
   "cell_type": "code",
   "execution_count": 38,
   "id": "328cb929",
   "metadata": {},
   "outputs": [],
   "source": [
    "#ques3: alphabet_soup('edabit') ➞ 'abdeit"
   ]
  },
  {
   "cell_type": "code",
   "execution_count": 10,
   "id": "eafd3929",
   "metadata": {},
   "outputs": [
    {
     "data": {
      "text/plain": [
       "'abdeit'"
      ]
     },
     "execution_count": 10,
     "metadata": {},
     "output_type": "execute_result"
    }
   ],
   "source": [
    "def alphabet_soup(p):\n",
    "    sot_string = \"\".join(sorted(p))\n",
    "    return sot_string\n",
    "p='edabit'\n",
    "alphabet_soup(p)"
   ]
  },
  {
   "cell_type": "code",
   "execution_count": 11,
   "id": "48051dad",
   "metadata": {},
   "outputs": [],
   "source": [
    "#q.replace(\"&quot;\",\"'\").replace(\"\\n\",\"   \")"
   ]
  },
  {
   "cell_type": "code",
   "execution_count": 39,
   "id": "4455191d",
   "metadata": {},
   "outputs": [],
   "source": [
    "q = \"\"\"\n",
    "Question4\n",
    "Suppose that you invest $10,000 for 10 years at an interest rate of 6% compounded monthly.\n",
    "What will be the value of your investment at the end of the 10 year period?\n",
    "Create a function that accepts the principal p, the term in years t, the interest rate r, and the\n",
    "number of compounding periods per year n. The function returns the value at the end of term\n",
    "rounded to the nearest cent.\n",
    "For the example above:\n",
    "compound_interest(10000, 10, 0.06, 12) ➞ 18193.97\n",
    "Note that the interest rate is given as a decimal and n=12 because with monthly compounding\n",
    "there are 12 periods per year. Compounding can also be done annually, quarterly, weekly, or\n",
    "daily.\n",
    "Examples\n",
    "compound_interest(100, 1, 0.05, 1) ➞ 105.0\n",
    "compound_interest(3500, 15, 0.1, 4) ➞ 15399.26\n",
    "compound_interest(100000, 20, 0.15, 365) ➞ 2007316.26\n",
    "\"\"\""
   ]
  },
  {
   "cell_type": "code",
   "execution_count": 2,
   "id": "03b7f602",
   "metadata": {},
   "outputs": [
    {
     "data": {
      "text/plain": [
       "18193.97"
      ]
     },
     "execution_count": 2,
     "metadata": {},
     "output_type": "execute_result"
    }
   ],
   "source": [
    "#def compound_interest(10000, 10, 0.06, 12):\n",
    "def compound_interest(P, Y, R, N):\n",
    "    ci = P*(1+(R/N))**(Y*N)\n",
    "    return ci\n",
    "\n",
    "round(compound_interest(10000, 10, 0.06, 12),2)  "
   ]
  },
  {
   "cell_type": "code",
   "execution_count": 13,
   "id": "4103a3a2",
   "metadata": {},
   "outputs": [],
   "source": [
    "T = \"\"\"Question5\n",
    "Write a function that takes a list of elements and returns only the integers.\n",
    "Examples\n",
    "return_only_integer([9, 2, &quot;space&quot;, &quot;car&quot;, &quot;lion&quot;, 16]) ➞ [9, 2, 16]\n",
    "return_only_integer([&quot;hello&quot;, 81, &quot;basketball&quot;, 123, &quot;fox&quot;]) ➞ [81, 123]\n",
    "return_only_integer([10, &quot;121&quot;, 56, 20, &quot;car&quot;, 3, &quot;lion&quot;]) ➞ [10, 56, 20,\n",
    "3]\n",
    "return_only_integer([&quot;String&quot;, True, 3.3, 1]) ➞ [1]\"\"\""
   ]
  },
  {
   "cell_type": "code",
   "execution_count": 14,
   "id": "108eda30",
   "metadata": {},
   "outputs": [
    {
     "data": {
      "text/plain": [
       "\"Question5   Write a function that takes a list of elements and returns only the integers.   Examples   return_only_integer([9, 2, 'space', 'car', 'lion', 16]) ➞ [9, 2, 16]   return_only_integer(['hello', 81, 'basketball', 123, 'fox']) ➞ [81, 123]   return_only_integer([10, '121', 56, 20, 'car', 3, 'lion']) ➞ [10, 56, 20,   3]   return_only_integer(['String', True, 3.3, 1]) ➞ [1]\""
      ]
     },
     "execution_count": 14,
     "metadata": {},
     "output_type": "execute_result"
    }
   ],
   "source": [
    "T.replace(\"&quot;\",\"'\").replace(\"\\n\",\"   \")"
   ]
  },
  {
   "cell_type": "code",
   "execution_count": 15,
   "id": "ddab716c",
   "metadata": {},
   "outputs": [],
   "source": [
    "#return_only_integer([9, 2, 'space', 'car', 'lion', 16]) ➞ [9, 2, 16]"
   ]
  },
  {
   "cell_type": "code",
   "execution_count": 16,
   "id": "e840681f",
   "metadata": {},
   "outputs": [],
   "source": [
    "#list1 = [9, 2, 'space', 'car', 'lion', 16]"
   ]
  },
  {
   "cell_type": "code",
   "execution_count": 33,
   "id": "78fac051",
   "metadata": {},
   "outputs": [],
   "source": [
    "def return_only_integer(list1):\n",
    "    list2 = []\n",
    "    for e in list1:\n",
    "        if type(e)==int:\n",
    "            list2.append(e)\n",
    "    return list2\n"
   ]
  },
  {
   "cell_type": "code",
   "execution_count": 36,
   "id": "2edd0881",
   "metadata": {},
   "outputs": [
    {
     "data": {
      "text/plain": [
       "[9, 16]"
      ]
     },
     "execution_count": 36,
     "metadata": {},
     "output_type": "execute_result"
    }
   ],
   "source": [
    "return_only_integer([9, 'space', 'car', 'lion', 16])"
   ]
  },
  {
   "cell_type": "code",
   "execution_count": null,
   "id": "d8139026",
   "metadata": {},
   "outputs": [],
   "source": []
  }
 ],
 "metadata": {
  "kernelspec": {
   "display_name": "Python 3 (ipykernel)",
   "language": "python",
   "name": "python3"
  },
  "language_info": {
   "codemirror_mode": {
    "name": "ipython",
    "version": 3
   },
   "file_extension": ".py",
   "mimetype": "text/x-python",
   "name": "python",
   "nbconvert_exporter": "python",
   "pygments_lexer": "ipython3",
   "version": "3.9.12"
  }
 },
 "nbformat": 4,
 "nbformat_minor": 5
}
