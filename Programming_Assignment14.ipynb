{
 "cells": [
  {
   "cell_type": "code",
   "execution_count": 29,
   "id": "b0bb51b1",
   "metadata": {},
   "outputs": [
    {
     "data": {
      "text/plain": [
       "[0, 7, 14, 21, 28, 35]"
      ]
     },
     "execution_count": 29,
     "metadata": {},
     "output_type": "execute_result"
    }
   ],
   "source": [
    "\"\"\"Question 1:\n",
    "Define a class with a generator which can iterate the numbers, which are divisible by\n",
    "7, between a given range 0 and n.\n",
    "\"\"\"\n",
    "class GeneratorName:\n",
    "    \n",
    "    def __init__(self,n):\n",
    "        self.n=n\n",
    "    def check_num(self):\n",
    "        div_7=[]\n",
    "        for i in range(self.n):\n",
    "            if i%7==0:\n",
    "                div_7.append(i)\n",
    "        return div_7\n",
    "    \n",
    "\n",
    "num1=GeneratorName(36)\n",
    "num1.check_num()\n",
    "\n",
    "\n",
    "\n",
    "\n",
    "\n",
    "\n",
    "\n"
   ]
  },
  {
   "cell_type": "code",
   "execution_count": 26,
   "id": "dde261d6",
   "metadata": {},
   "outputs": [],
   "source": [
    "\"\"\"Question 2:\n",
    "Write a program to compute the frequency of the words from the input. The output\n",
    "should output after sorting the key alphanumerically.\n",
    "Suppose the following input is supplied to the program:\n",
    "New to Python or choosing between Python 2 and Python 3? Read Python 2 or\n",
    "Python 3.\n",
    "Then, the output should be:\n",
    "2:2\n",
    "3.:1\n",
    "3?:1\n",
    "New:1\n",
    "Python:5\n",
    "Read:1\n",
    "and:1\n",
    "between:1\n",
    "choosing:1\n",
    "or:2\n",
    "to:1\n",
    "\"\"\""
   ]
  },
  {
   "cell_type": "code",
   "execution_count": 38,
   "id": "2f7bf6db",
   "metadata": {},
   "outputs": [
    {
     "name": "stdout",
     "output_type": "stream",
     "text": [
      "Enter the sentence New to Python or choosing between Python 2 and Python 3? Read Python 2 or Python 3\n"
     ]
    }
   ],
   "source": [
    "word = input(\"Enter the sentence \")"
   ]
  },
  {
   "cell_type": "code",
   "execution_count": 41,
   "id": "74371632",
   "metadata": {},
   "outputs": [],
   "source": [
    "word1=word.split()\n",
    "    "
   ]
  },
  {
   "cell_type": "code",
   "execution_count": 79,
   "id": "46daccef",
   "metadata": {},
   "outputs": [
    {
     "data": {
      "text/plain": [
       "['2', '2', '3', '3?', 'New', 'Python', 'Python', 'Python', 'Python', 'Python', 'Read', 'and', 'between', 'choosing', 'or', 'or', 'to']"
      ]
     },
     "execution_count": 79,
     "metadata": {},
     "output_type": "execute_result"
    }
   ],
   "source": [
    "word1.sort()\n",
    "word1"
   ]
  },
  {
   "cell_type": "code",
   "execution_count": 121,
   "id": "813d32ef",
   "metadata": {},
   "outputs": [],
   "source": [
    "t=dict()\n",
    "for i in word1:\n",
    "    #dict1.update({i:word1.count(i)})\n",
    "    t.update({i:word1.count(i)})\n"
   ]
  },
  {
   "cell_type": "code",
   "execution_count": 122,
   "id": "21d225cd",
   "metadata": {},
   "outputs": [
    {
     "data": {
      "text/plain": [
       "{'2': 2, '3': 1, '3?': 1, 'New': 1, 'Python': 5, 'Read': 1, 'and': 1, 'between': 1, 'choosing': 1, 'or': 2, 'to': 1}"
      ]
     },
     "execution_count": 122,
     "metadata": {},
     "output_type": "execute_result"
    }
   ],
   "source": [
    "t"
   ]
  },
  {
   "cell_type": "code",
   "execution_count": 126,
   "id": "31045e4c",
   "metadata": {},
   "outputs": [
    {
     "name": "stdout",
     "output_type": "stream",
     "text": [
      "2 : 2\n",
      "3 : 1\n",
      "3? : 1\n",
      "New : 1\n",
      "Python : 5\n",
      "Read : 1\n",
      "and : 1\n",
      "between : 1\n",
      "choosing : 1\n",
      "or : 2\n",
      "to : 1\n"
     ]
    }
   ],
   "source": [
    "for i,k in t.items():\n",
    "    print(i,\":\",k)"
   ]
  },
  {
   "cell_type": "code",
   "execution_count": 15,
   "id": "6e3a6f19",
   "metadata": {},
   "outputs": [
    {
     "name": "stdout",
     "output_type": "stream",
     "text": [
      "Nothing\n",
      "Male\n",
      "Female\n"
     ]
    }
   ],
   "source": [
    "\"\"\"\n",
    "Question 3:\n",
    "\n",
    "Define a class Person and its two child classes: Male and Female. All classes have a\n",
    "method;getGender&quot; which can print ;Male; for Male class and &quot;Female&quot; for Female\n",
    "class.\n",
    "\"\"\"\n",
    "\n",
    "class Person:\n",
    "    \n",
    "    def getGender(self):\n",
    "        return \"Nothing\"\n",
    "\n",
    "    \n",
    "class Male(Person):\n",
    "    \n",
    "    def __init__(self,gender=\"Male\"):\n",
    "        self.gender=gender\n",
    "        \n",
    "    def getGender(self):\n",
    "       return f\"{self.gender}\"\n",
    "        \n",
    "class Female(Person):\n",
    "    \n",
    "    def __init__(self,gender=\"Female\"):\n",
    "        self.gender=gender\n",
    "\n",
    "        \n",
    "    def getGender(self):\n",
    "        return f\"{self.gender}\"\n",
    " \n",
    "\n",
    "p=Person()\n",
    "print(p.getGender())\n",
    "\n",
    "m=Male()\n",
    "print(m.getGender())\n",
    "\n",
    "f=Female()\n",
    "print(f.getGender())"
   ]
  },
  {
   "cell_type": "code",
   "execution_count": 3,
   "id": "d27b1fb4",
   "metadata": {},
   "outputs": [
    {
     "name": "stdout",
     "output_type": "stream",
     "text": [
      "I Play Hockey\n",
      "I Play Football\n",
      "I Love Hockey\n",
      "I Love Football\n",
      "You Play Hockey\n",
      "You Play Football\n",
      "You Love Hockey\n",
      "You Love Football\n"
     ]
    }
   ],
   "source": [
    "\"\"\"\n",
    "Question 4:\n",
    "Please write a program to generate all sentences where subject is in [\"I\";\"You\"] and\n",
    "verb is in [\"Play\",\"Love\"] and the object is in [\"Hockey\",\"Football\"].\n",
    "\"\"\"\n",
    "subject = [\"I\",\"You\"] \n",
    "verb = [\"Play\",\"Love\"]\n",
    "object = [\"Hockey\",\"Football\"]\n",
    "\n",
    "\n",
    "for i in range(len(subject)):\n",
    "    for j in range(len(verb)):\n",
    "        for k in range(len(object)):\n",
    "            print(subject[i]+\" \"+verb[j]+\" \"+object[k])\n",
    "\n",
    "\n",
    "\n",
    "\n",
    "\n",
    "\n",
    "\n"
   ]
  },
  {
   "cell_type": "code",
   "execution_count": 25,
   "id": "2932fc1e",
   "metadata": {},
   "outputs": [
    {
     "name": "stdout",
     "output_type": "stream",
     "text": [
      "Compressed:  b'x\\x9c\\xcbH\\xcd\\xc9\\xc9W(\\xcf/\\xcaIQ\\xcc \\x82\\r\\x00\\xbd[\\x11\\xf5'\n",
      "23\n",
      "48\n",
      "Decompressed:  b'hello world!hello world!hello world!hello world!'\n"
     ]
    }
   ],
   "source": [
    "\"\"\"\n",
    "Question 5:\n",
    "Please write a program to compress and decompress the string \"hello world!hello\n",
    "world!hello world!hello world!\".x\n",
    "\"\"\"\n",
    "\n",
    "import zlib\n",
    "text=b\"hello world!hello world!hello world!hello world!\"\n",
    "comp=zlib.compress(text)\n",
    "print(\"Compressed: \", comp)\n",
    "print(len(comp))\n",
    "decomp=zlib.decompress(comp)\n",
    "print(len(decomp))\n",
    "print(\"Decompressed: \", decomp)"
   ]
  },
  {
   "cell_type": "code",
   "execution_count": null,
   "id": "1234a599",
   "metadata": {},
   "outputs": [],
   "source": [
    "\"\"\"Question 6:\n",
    "Please write a binary search function which searches an item in a sorted list. The\n",
    "function should return the index of element to be searched in the list.\"\"\""
   ]
  },
  {
   "cell_type": "code",
   "execution_count": 27,
   "id": "4e8da670",
   "metadata": {},
   "outputs": [
    {
     "name": "stdout",
     "output_type": "stream",
     "text": [
      "[2, 3, 5, 8, 9, 23]\n"
     ]
    }
   ],
   "source": [
    "seq=[3,2,8,5,9,23]\n",
    "seq.sort()\n",
    "print(seq)"
   ]
  },
  {
   "cell_type": "code",
   "execution_count": 28,
   "id": "cdaf140e",
   "metadata": {},
   "outputs": [
    {
     "name": "stdout",
     "output_type": "stream",
     "text": [
      "Enter the Number to search in list8\n"
     ]
    }
   ],
   "source": [
    "try:\n",
    "    element=int(input(\"Enter the Number to search in list\"))\n",
    "except ValueError:\n",
    "    print(\"Enter valid input\")"
   ]
  },
  {
   "cell_type": "code",
   "execution_count": 30,
   "id": "8086d29f",
   "metadata": {},
   "outputs": [],
   "source": [
    "def binary_search(seq,element):\n",
    "    ele=[ seq.index(i) for i in seq  if i==element]\n",
    "    return ele"
   ]
  },
  {
   "cell_type": "code",
   "execution_count": 31,
   "id": "63793460",
   "metadata": {},
   "outputs": [],
   "source": [
    "t=binary_search(seq,element)"
   ]
  },
  {
   "cell_type": "code",
   "execution_count": 32,
   "id": "38c00c7e",
   "metadata": {},
   "outputs": [
    {
     "name": "stdout",
     "output_type": "stream",
     "text": [
      "8 is present at index 3 \n"
     ]
    }
   ],
   "source": [
    "if t==[]:\n",
    "    print(\"element is not in list\")\n",
    "else :\n",
    "    print(f\"{element} is present at index {t[0]} \")"
   ]
  },
  {
   "cell_type": "code",
   "execution_count": null,
   "id": "836dfc9a",
   "metadata": {},
   "outputs": [],
   "source": []
  },
  {
   "cell_type": "code",
   "execution_count": null,
   "id": "14d3b42e",
   "metadata": {},
   "outputs": [],
   "source": []
  }
 ],
 "metadata": {
  "kernelspec": {
   "display_name": "Python 3 (ipykernel)",
   "language": "python",
   "name": "python3"
  },
  "language_info": {
   "codemirror_mode": {
    "name": "ipython",
    "version": 3
   },
   "file_extension": ".py",
   "mimetype": "text/x-python",
   "name": "python",
   "nbconvert_exporter": "python",
   "pygments_lexer": "ipython3",
   "version": "3.9.12"
  }
 },
 "nbformat": 4,
 "nbformat_minor": 5
}
