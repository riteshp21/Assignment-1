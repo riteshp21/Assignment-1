{
 "cells": [
  {
   "cell_type": "markdown",
   "id": "8758f63a",
   "metadata": {},
   "source": [
    "# Question 1 Create a function that takes a list of non-negative integers and strings and return a new list without the strings."
   ]
  },
  {
   "cell_type": "code",
   "execution_count": null,
   "id": "d1728fb8",
   "metadata": {},
   "outputs": [],
   "source": [
    "#filter_list([1, 2, \"a\", \"b\"]) ➞ [1, 2]"
   ]
  },
  {
   "cell_type": "code",
   "execution_count": 9,
   "id": "bf7f3f66",
   "metadata": {},
   "outputs": [
    {
     "data": {
      "text/plain": [
       "[1, 2, 6]"
      ]
     },
     "execution_count": 9,
     "metadata": {},
     "output_type": "execute_result"
    }
   ],
   "source": [
    "def filter_list(a):\n",
    "    list_int = []\n",
    "    for i in a:\n",
    "        if type(i)==int:\n",
    "            list_int.append(i)\n",
    "        \n",
    "    return list_int\n",
    "\n",
    "filter_list([1, 2, \"a\", \"b\",6,\"g\"])"
   ]
  },
  {
   "cell_type": "markdown",
   "id": "7284e652",
   "metadata": {},
   "source": [
    "# Question 2 The \"Reverser\" takes a string as input and returns that string in reverse order, with the opposite case."
   ]
  },
  {
   "cell_type": "code",
   "execution_count": 10,
   "id": "afb16d41",
   "metadata": {},
   "outputs": [],
   "source": [
    "#reverse(\"Hello World\") ➞ \"DLROw OLLEh&quot\""
   ]
  },
  {
   "cell_type": "code",
   "execution_count": 48,
   "id": "9ff0c048",
   "metadata": {},
   "outputs": [
    {
     "data": {
      "text/plain": [
       "'DLROwOLLEh'"
      ]
     },
     "execution_count": 48,
     "metadata": {},
     "output_type": "execute_result"
    }
   ],
   "source": [
    "def reverse(a):\n",
    "    string_rev =[]\n",
    "    reverse_string =a[::-1]\n",
    "    for i in reverse_string:\n",
    "        \n",
    "        if i.islower():\n",
    "            string_rev.append(i.upper())\n",
    "        elif i.isupper():\n",
    "            string_rev.append(i.lower())\n",
    "    \n",
    "    return \"\".join(string_rev)\n",
    "\n",
    "reverse(\"Hello World\")"
   ]
  },
  {
   "cell_type": "markdown",
   "id": "cdf85b89",
   "metadata": {},
   "source": [
    "# Question 3 You can assign variables from lists like this: lst = [1, 2, 3, 4, 5, 6] first = lst[0] middle = lst[1:-1] last = lst[-1] print(first) ➞ outputs 1print(middle) ➞ outputs [2, 3, 4, 5] print(last) ➞ outputs 6 With Python 3, you can assign variables from lists in a much more succinct way. Create variables first, middle and last from the given list using destructuring assignment (check the Resources tab for some examples), where:first ➞ 1 middle ➞ [2, 3, 4, 5]last ➞ 6\n"
   ]
  },
  {
   "cell_type": "code",
   "execution_count": 2,
   "id": "4cf24665",
   "metadata": {},
   "outputs": [],
   "source": [
    "lst = [1, 2, 3, 4, 5, 6]"
   ]
  },
  {
   "cell_type": "code",
   "execution_count": 5,
   "id": "84893647",
   "metadata": {},
   "outputs": [],
   "source": [
    "f,*m,l =lst"
   ]
  },
  {
   "cell_type": "code",
   "execution_count": 35,
   "id": "f62cca62",
   "metadata": {},
   "outputs": [
    {
     "name": "stdout",
     "output_type": "stream",
     "text": [
      "first element 1 ,middle element [2, 3, 4, 5], last elements 6\n"
     ]
    }
   ],
   "source": [
    "print(f\"first element {f} ,middle element {m}, last elements {l}\") "
   ]
  },
  {
   "cell_type": "code",
   "execution_count": 32,
   "id": "8979678b",
   "metadata": {},
   "outputs": [
    {
     "name": "stdout",
     "output_type": "stream",
     "text": [
      "[2, 3, 4, 5]\n"
     ]
    }
   ],
   "source": [
    "print(list(m))"
   ]
  },
  {
   "cell_type": "markdown",
   "id": "c1b57b98",
   "metadata": {},
   "source": [
    "# Question 4 Write a function that calculates the factorial of a number recursively."
   ]
  },
  {
   "cell_type": "code",
   "execution_count": 36,
   "id": "2dafe8ff",
   "metadata": {},
   "outputs": [
    {
     "name": "stdout",
     "output_type": "stream",
     "text": [
      "The factorial of 7 is 5040\n"
     ]
    }
   ],
   "source": [
    "def recur_factorial(n):\n",
    "   if n == 1:\n",
    "       return n\n",
    "   else:\n",
    "       return n*recur_factorial(n-1)\n",
    "\n",
    "num = 7\n",
    "\n",
    "if num < 0:\n",
    "   print(\"Sorry, factorial does not exist for negative numbers\")\n",
    "elif num == 0:\n",
    "   print(\"The factorial of 0 is 1\")\n",
    "else:\n",
    "   print(\"The factorial of\", num, \"is\", recur_factorial(num))\n"
   ]
  },
  {
   "cell_type": "markdown",
   "id": "44874d2a",
   "metadata": {},
   "source": [
    "# Question 5 Write a function that moves all elements of one type to the end of the list. Ex : move_end([\"a,\"a\",\"a\",\"b\" ]) = [\"b\",\"a,\"a\",\"a\" ]"
   ]
  },
  {
   "cell_type": "code",
   "execution_count": 7,
   "id": "be354adc",
   "metadata": {},
   "outputs": [
    {
     "data": {
      "text/plain": [
       "['a', 'a', 'a', 'b']"
      ]
     },
     "execution_count": 7,
     "metadata": {},
     "output_type": "execute_result"
    }
   ],
   "source": [
    "def move_end(lt,p):\n",
    "    for i in lt[:]:\n",
    "        if i == p:\n",
    "            lt.remove(i)\n",
    "            lt.append(i)\n",
    "        return lt\n",
    "    \n",
    "\n",
    "\n",
    "move_end([\"a\",\"a\",\"a\",\"b\" ],\"b\")"
   ]
  },
  {
   "cell_type": "code",
   "execution_count": null,
   "id": "1d8dc3b3",
   "metadata": {},
   "outputs": [],
   "source": [
    "\n",
    "       "
   ]
  },
  {
   "cell_type": "code",
   "execution_count": null,
   "id": "8b60abf6",
   "metadata": {},
   "outputs": [],
   "source": []
  },
  {
   "cell_type": "code",
   "execution_count": null,
   "id": "ac91b6b5",
   "metadata": {},
   "outputs": [],
   "source": []
  }
 ],
 "metadata": {
  "kernelspec": {
   "display_name": "Python 3 (ipykernel)",
   "language": "python",
   "name": "python3"
  },
  "language_info": {
   "codemirror_mode": {
    "name": "ipython",
    "version": 3
   },
   "file_extension": ".py",
   "mimetype": "text/x-python",
   "name": "python",
   "nbconvert_exporter": "python",
   "pygments_lexer": "ipython3",
   "version": "3.9.12"
  }
 },
 "nbformat": 4,
 "nbformat_minor": 5
}
