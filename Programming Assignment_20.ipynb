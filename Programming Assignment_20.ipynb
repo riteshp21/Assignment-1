{
 "cells": [
  {
   "cell_type": "markdown",
   "id": "db9e0a1d",
   "metadata": {},
   "source": [
    "# Question1\n",
    "Create a function that takes a list of strings and integers, and filters out the list so that it returns a list of integers only."
   ]
  },
  {
   "cell_type": "code",
   "execution_count": 27,
   "id": "d38184d7",
   "metadata": {},
   "outputs": [],
   "source": [
    "def list_check(a):\n",
    "    int_=[]\n",
    "    for i in a:\n",
    "        if isinstance(i,int):\n",
    "            int_.append(i)\n",
    "    return int_\n",
    "            "
   ]
  },
  {
   "cell_type": "code",
   "execution_count": 29,
   "id": "1bd3bc5c",
   "metadata": {},
   "outputs": [
    {
     "data": {
      "text/plain": [
       "[1729, 0]"
      ]
     },
     "execution_count": 29,
     "metadata": {},
     "output_type": "execute_result"
    }
   ],
   "source": [
    "list_check([\"Edabit\", 1729, \"Python\",\"1729\",0])"
   ]
  },
  {
   "cell_type": "markdown",
   "id": "e83cc59d",
   "metadata": {},
   "source": [
    "# Question2\n",
    "Given a list of numbers, create a function which returns the list but with each element&#39;s\n",
    "index in the list added to itself. This means you add 0 to the number at index 0, add 1 to the\n",
    "number at index 1, etc..."
   ]
  },
  {
   "cell_type": "code",
   "execution_count": 39,
   "id": "fa7f8ef4",
   "metadata": {},
   "outputs": [
    {
     "data": {
      "text/plain": [
       "[1, 3, 5, 7, 9]"
      ]
     },
     "execution_count": 39,
     "metadata": {},
     "output_type": "execute_result"
    }
   ],
   "source": [
    "#add_indexes([0, 0, 0, 0, 0])➞ [0, 1, 2, 3, 4]\n",
    "#add_indexes([1, 2, 3, 4, 5]) ➞ [1, 3, 5, 7, 9]\n",
    "def list_ele_index_sum(a):\n",
    "    for i in range(len(a)):\n",
    "        a[i]=i+a[i]\n",
    "    return a\n",
    "list_ele_index_sum([1, 2, 3, 4, 5])"
   ]
  },
  {
   "cell_type": "markdown",
   "id": "d6999299",
   "metadata": {},
   "source": [
    "# Question3\n",
    "Create a function that takes the height and radius of a cone as arguments and returns the\n",
    "volume of the cone rounded to the nearest hundredth. See the resources tab for the formula."
   ]
  },
  {
   "cell_type": "code",
   "execution_count": 12,
   "id": "92359942",
   "metadata": {},
   "outputs": [
    {
     "data": {
      "text/plain": [
       "565.4866776461628"
      ]
     },
     "execution_count": 12,
     "metadata": {},
     "output_type": "execute_result"
    }
   ],
   "source": [
    "import math\n",
    "pi = math.pi\n",
    "\n",
    "def vol_cone(r,h):\n",
    "    vol = pi*r*r*h/3\n",
    "    return vol\n",
    "vol_cone(6, 15)"
   ]
  },
  {
   "cell_type": "markdown",
   "id": "b85ead69",
   "metadata": {},
   "source": [
    "# Ques 4 :This Triangular Number Sequence is generated from a pattern of dots that form a triangle.\n",
    "The first 5 numbers of the sequence, or dots, are:\n",
    "1, 3, 6, 10, 15\n",
    "This means that the first triangle has just one dot, the second one has three dots, the third one\n",
    "has 6 dots and so on.\n",
    "Write a function that gives the number of dots with its corresponding triangle number of the\n",
    "sequence."
   ]
  },
  {
   "cell_type": "code",
   "execution_count": 25,
   "id": "d1dea0dc",
   "metadata": {},
   "outputs": [
    {
     "data": {
      "text/plain": [
       "21.0"
      ]
     },
     "execution_count": 25,
     "metadata": {},
     "output_type": "execute_result"
    }
   ],
   "source": [
    "def enter_num(n):\n",
    "    n1=n*(n+1)/2\n",
    "    return n1\n",
    "enter_num(6)"
   ]
  },
  {
   "cell_type": "markdown",
   "id": "4da81cb4",
   "metadata": {},
   "source": [
    "# Question5 Create a function that takes a list of numbers between 1 and 10 (excluding one number) and returns the missing number."
   ]
  },
  {
   "cell_type": "code",
   "execution_count": 13,
   "id": "dd273d85",
   "metadata": {},
   "outputs": [],
   "source": [
    "#missing_num([1, 2, 3, 4, 6, 7, 8, 9, 10]) ➞ 5\n",
    "\n",
    "l = [1, 2, 3, 4, 6, 7, 8, 9, 10]"
   ]
  },
  {
   "cell_type": "code",
   "execution_count": 19,
   "id": "10bd7909",
   "metadata": {},
   "outputs": [
    {
     "data": {
      "text/plain": [
       "[5]"
      ]
     },
     "execution_count": 19,
     "metadata": {},
     "output_type": "execute_result"
    }
   ],
   "source": [
    "def missing_num (l):\n",
    "    l1 = [i for i in range(1,11) if i not in l]\n",
    "    return l1\n",
    "missing_num (l)"
   ]
  },
  {
   "cell_type": "code",
   "execution_count": null,
   "id": "a9585b6c",
   "metadata": {},
   "outputs": [],
   "source": []
  }
 ],
 "metadata": {
  "kernelspec": {
   "display_name": "Python 3 (ipykernel)",
   "language": "python",
   "name": "python3"
  },
  "language_info": {
   "codemirror_mode": {
    "name": "ipython",
    "version": 3
   },
   "file_extension": ".py",
   "mimetype": "text/x-python",
   "name": "python",
   "nbconvert_exporter": "python",
   "pygments_lexer": "ipython3",
   "version": "3.9.12"
  }
 },
 "nbformat": 4,
 "nbformat_minor": 5
}
