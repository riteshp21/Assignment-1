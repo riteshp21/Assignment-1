{
 "cells": [
  {
   "cell_type": "markdown",
   "id": "d3f32c60",
   "metadata": {},
   "source": [
    "# Question1. Create a function that takes three arguments a, b, c and returns the sum of the numbers that are evenly divided by c from the range a, b inclusive."
   ]
  },
  {
   "cell_type": "code",
   "execution_count": 15,
   "id": "0fc0ffa6",
   "metadata": {},
   "outputs": [
    {
     "data": {
      "text/plain": [
       "18"
      ]
     },
     "execution_count": 15,
     "metadata": {},
     "output_type": "execute_result"
    }
   ],
   "source": [
    "def num(a,b,c):\n",
    "    list_num = []\n",
    "    for i in range(a,b+1):\n",
    "        if i % c == 0:\n",
    "            list_num.append(i)\n",
    "    return sum(list_num)\n",
    "    \n",
    "num(1,10,3)    "
   ]
  },
  {
   "cell_type": "markdown",
   "id": "6429b210",
   "metadata": {},
   "source": [
    "# Question2. Create a function that returns True if a given inequality expression is correct and False otherwise.\n"
   ]
  },
  {
   "cell_type": "code",
   "execution_count": 16,
   "id": "807c1e6d",
   "metadata": {},
   "outputs": [],
   "source": [
    "#correct_signs(\"3 < 7 < 11\")"
   ]
  },
  {
   "cell_type": "code",
   "execution_count": 28,
   "id": "2a9a9a60",
   "metadata": {},
   "outputs": [
    {
     "data": {
      "text/plain": [
       "False"
      ]
     },
     "execution_count": 28,
     "metadata": {},
     "output_type": "execute_result"
    }
   ],
   "source": [
    "def correct_signs(a):\n",
    "    return eval(a)\n",
    "    \n",
    "correct_signs(\"13 > 44 > 33 > 1\")"
   ]
  },
  {
   "cell_type": "markdown",
   "id": "ec043897",
   "metadata": {},
   "source": [
    "# Question3. Create a function that replaces all the vowels in a string with a specified character."
   ]
  },
  {
   "cell_type": "code",
   "execution_count": 13,
   "id": "61d27cde",
   "metadata": {},
   "outputs": [
    {
     "data": {
      "text/plain": [
       "'th# ##rdv#rk'"
      ]
     },
     "execution_count": 13,
     "metadata": {},
     "output_type": "execute_result"
    }
   ],
   "source": [
    "def replace_vowels(a, b):\n",
    "    vowels =\"aeiou\"\n",
    "    for i in a:\n",
    "        if i in vowels:\n",
    "             p=a.replace(i,b)\n",
    "             a=p\n",
    "            \n",
    "    return p\n",
    "    \n",
    "     \n",
    "replace_vowels(\"the aardvark\", \"#\")"
   ]
  },
  {
   "cell_type": "markdown",
   "id": "8f008d74",
   "metadata": {},
   "source": [
    "# Question4. Write a function that calculates the factorial of a number recursively."
   ]
  },
  {
   "cell_type": "code",
   "execution_count": 15,
   "id": "58c7d4a0",
   "metadata": {},
   "outputs": [
    {
     "name": "stdout",
     "output_type": "stream",
     "text": [
      "The factorial of 7 is 5040\n"
     ]
    }
   ],
   "source": [
    "def recur_factorial(n):\n",
    "   if n == 1:\n",
    "       return n\n",
    "   else:\n",
    "       return n*recur_factorial(n-1)\n",
    "\n",
    "num = 7\n",
    "\n",
    "if num < 0:\n",
    "   print(\"Sorry, factorial does not exist for negative numbers\")\n",
    "elif num == 0:\n",
    "   print(\"The factorial of 0 is 1\")\n",
    "else:\n",
    "   print(\"The factorial of\", num, \"is\", recur_factorial(num))\n"
   ]
  },
  {
   "cell_type": "markdown",
   "id": "5879f2c7",
   "metadata": {},
   "source": [
    "# Question 5 Hamming distance is the number of characters that differ between two strings."
   ]
  },
  {
   "cell_type": "code",
   "execution_count": 11,
   "id": "e6b611d9",
   "metadata": {},
   "outputs": [
    {
     "data": {
      "text/plain": [
       "4"
      ]
     },
     "execution_count": 11,
     "metadata": {},
     "output_type": "execute_result"
    }
   ],
   "source": [
    "#hamming_distance(\"abcde\", \"bcdef\") ➞ 5\n",
    "\n",
    "def hamming_distance(a,b):\n",
    "    i = 0\n",
    "    hamming_count=0\n",
    "    while(i <len(a)):\n",
    "        if a[i]!=b[i]:\n",
    "            \n",
    "            hamming_count +=1\n",
    "            \n",
    "        i+=1\n",
    "    return hamming_count\n",
    "            \n",
    "        \n",
    "        \n",
    "hamming_distance(\"abwe\", \"deff\") \n",
    "        \n",
    "        \n",
    "        \n",
    "\n",
    "\n"
   ]
  },
  {
   "cell_type": "code",
   "execution_count": null,
   "id": "e3a3c7bc",
   "metadata": {},
   "outputs": [],
   "source": []
  }
 ],
 "metadata": {
  "kernelspec": {
   "display_name": "Python 3 (ipykernel)",
   "language": "python",
   "name": "python3"
  },
  "language_info": {
   "codemirror_mode": {
    "name": "ipython",
    "version": 3
   },
   "file_extension": ".py",
   "mimetype": "text/x-python",
   "name": "python",
   "nbconvert_exporter": "python",
   "pygments_lexer": "ipython3",
   "version": "3.9.12"
  }
 },
 "nbformat": 4,
 "nbformat_minor": 5
}
